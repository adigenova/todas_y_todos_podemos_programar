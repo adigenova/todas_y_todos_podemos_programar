{
  "nbformat": 4,
  "nbformat_minor": 0,
  "metadata": {
    "colab": {
      "name": "TPP_C04.ipynb",
      "provenance": [],
      "collapsed_sections": [],
      "authorship_tag": "ABX9TyNn6JBPrC4zbagVt7MVBCq3",
      "include_colab_link": true
    },
    "kernelspec": {
      "name": "python3",
      "display_name": "Python 3"
    },
    "language_info": {
      "name": "python"
    }
  },
  "cells": [
    {
      "cell_type": "markdown",
      "metadata": {
        "id": "view-in-github",
        "colab_type": "text"
      },
      "source": [
        "<a href=\"https://colab.research.google.com/github/adigenova/tpp/blob/main/code/TPP_C04.ipynb\" target=\"_parent\"><img src=\"https://colab.research.google.com/assets/colab-badge.svg\" alt=\"Open In Colab\"/></a>"
      ]
    },
    {
      "cell_type": "markdown",
      "source": [
        "# Todas y todos podemos programar\n",
        "Este **taller** busca entregar competencias basicas de programación a estudiantes de *tercero* y *Cuarto* Medio.\n"
      ],
      "metadata": {
        "id": "4cyzIFHpRbnL"
      }
    },
    {
      "cell_type": "markdown",
      "source": [
        "# Ejercicios dia 3\n",
        "\n",
        "1. programar un ejemplo de if, if-else, if-elif-else\n",
        "1. imprimir numeros del 1 al 10 con while y for.\n",
        "2. contruir un for anidado para las combinaciones de pares de numeros del 1 al 10.\n",
        "1. Cuanto suman los numeros del 1 al 100?\n",
        "2. Imprimir los numeros pares menores a 20.\n",
        "3. imprimir todos los valores de una lista ordenados."
      ],
      "metadata": {
        "id": "rSU04U-kPEPj"
      }
    },
    {
      "cell_type": "code",
      "source": [
        "#1\n",
        "a=5\n",
        "b=6\n",
        "if a == 5 and b == 6:\n",
        "  print(\"los numeros suman 11\")\n",
        "\n",
        "print(a+b)\n",
        "\n",
        "numero = int(input(\"ingrese un numero\"))\n",
        "\n",
        "if numero >= 10:\n",
        "  print(\"el numero es mayor a diez\",numero)\n",
        "else:\n",
        "  print(\"el numero es menor a diez\", numero)\n",
        "\n",
        "\n",
        "edad=int(input(\"ingrese su edad:\"))\n",
        "if edad < 5:\n",
        "  print(\"bebe\")\n",
        "elif edad >=5 and edad <=10:\n",
        "  print(\"niño\")\n",
        "elif edad > 10 and edad <= 18:\n",
        "  print(\"adolecente\")\n",
        "elif edad >18 and edad < 30:\n",
        "  print(\"Joven\")\n",
        "elif edad >=30 and edad <= 60:\n",
        "  print(\"Adulto\")\n",
        "else:\n",
        "  print(\"mayor\")\n",
        "\n",
        "\n"
      ],
      "metadata": {
        "colab": {
          "base_uri": "https://localhost:8080/"
        },
        "id": "Vm827bjSPPos",
        "outputId": "57a93aec-ecb8-4e25-e802-2e19e756959e"
      },
      "execution_count": 1,
      "outputs": [
        {
          "output_type": "stream",
          "name": "stdout",
          "text": [
            "los numeros suman 11\n",
            "11\n",
            "ingrese un numero10\n",
            "el numero es menor a diez 10\n",
            "ingrese su edad:55\n",
            "Adulto\n"
          ]
        }
      ]
    },
    {
      "cell_type": "code",
      "source": [
        "#2\n",
        "print(\"ciclo while\")\n",
        "i =1 \n",
        "while i <= 10:\n",
        "  print(i)\n",
        "  i=i+1\n",
        "\n",
        "print(\"Ciclo for:\")\n",
        "for i in range(1,11):\n",
        "   print(i)"
      ],
      "metadata": {
        "colab": {
          "base_uri": "https://localhost:8080/"
        },
        "id": "5y7fRQNYQ3Tl",
        "outputId": "d665c1d1-c6e6-4701-a386-f1b8d55a611d"
      },
      "execution_count": 5,
      "outputs": [
        {
          "output_type": "stream",
          "name": "stdout",
          "text": [
            "ciclo while\n",
            "1\n",
            "2\n",
            "3\n",
            "4\n",
            "5\n",
            "6\n",
            "7\n",
            "8\n",
            "9\n",
            "10\n",
            "Ciclo for:\n",
            "1\n",
            "2\n",
            "3\n",
            "4\n",
            "5\n",
            "6\n",
            "7\n",
            "8\n",
            "9\n",
            "10\n"
          ]
        }
      ]
    },
    {
      "cell_type": "code",
      "source": [
        "# 3\n",
        "for i in range(10):\n",
        "  for j in range(10):\n",
        "    print(i,j)"
      ],
      "metadata": {
        "id": "dxjfQcjfRNuO"
      },
      "execution_count": null,
      "outputs": []
    },
    {
      "cell_type": "code",
      "source": [
        "# 4\n",
        "acum=0\n",
        "i=1\n",
        "while i <=100:\n",
        "  acum=acum+i\n",
        "  i+=1\n",
        "\n",
        "print(acum)"
      ],
      "metadata": {
        "colab": {
          "base_uri": "https://localhost:8080/"
        },
        "id": "4QQ2ck3JRaId",
        "outputId": "e8db3684-20bb-4589-8c4c-adef5131a8eb"
      },
      "execution_count": 3,
      "outputs": [
        {
          "output_type": "stream",
          "name": "stdout",
          "text": [
            "5050\n"
          ]
        }
      ]
    },
    {
      "cell_type": "code",
      "source": [
        "#5\n",
        "i=2\n",
        "while i < 20:\n",
        "  print(i)\n",
        "  i=i+2\n",
        "\n",
        "print(\"ciclo for\")\n",
        "for i in range(1,20):\n",
        "  if i%2 == 0:\n",
        "   print(i) "
      ],
      "metadata": {
        "colab": {
          "base_uri": "https://localhost:8080/"
        },
        "id": "ajVq8OxFRs0B",
        "outputId": "bc87d09c-d989-4818-9435-d5a87acf1a9d"
      },
      "execution_count": 11,
      "outputs": [
        {
          "output_type": "stream",
          "name": "stdout",
          "text": [
            "2\n",
            "4\n",
            "6\n",
            "8\n",
            "10\n",
            "12\n",
            "14\n",
            "16\n",
            "18\n",
            "ciclo for\n",
            "2\n",
            "4\n",
            "6\n",
            "8\n",
            "10\n",
            "12\n",
            "14\n",
            "16\n",
            "18\n"
          ]
        }
      ]
    },
    {
      "cell_type": "code",
      "source": [
        "#6\n",
        "import random\n",
        "L=[]\n",
        "for i in range(20):\n",
        "  L.append(random.randint(0,100))\n",
        "\n",
        "print(L)\n",
        "L.sort(reverse=True)\n",
        "print(sorted(L,reverse=True))\n",
        "print(L)"
      ],
      "metadata": {
        "colab": {
          "base_uri": "https://localhost:8080/"
        },
        "id": "WERkQqILSKWo",
        "outputId": "beb63aa5-14fd-4bc5-c4eb-98d1e5862b4f"
      },
      "execution_count": 9,
      "outputs": [
        {
          "output_type": "stream",
          "name": "stdout",
          "text": [
            "[72, 47, 29, 12, 55, 26, 87, 23, 2, 64, 90, 30, 15, 47, 98, 90, 50, 35, 75, 98]\n",
            "[98, 98, 90, 90, 87, 75, 72, 64, 55, 50, 47, 47, 35, 30, 29, 26, 23, 15, 12, 2]\n",
            "[98, 98, 90, 90, 87, 75, 72, 64, 55, 50, 47, 47, 35, 30, 29, 26, 23, 15, 12, 2]\n"
          ]
        }
      ]
    },
    {
      "cell_type": "code",
      "source": [
        "help(sorted)"
      ],
      "metadata": {
        "colab": {
          "base_uri": "https://localhost:8080/"
        },
        "id": "Itw-VTgBJ10y",
        "outputId": "b07468c1-4b36-4904-89c3-9882f62257d5"
      },
      "execution_count": 6,
      "outputs": [
        {
          "output_type": "stream",
          "name": "stdout",
          "text": [
            "Help on built-in function sorted in module builtins:\n",
            "\n",
            "sorted(iterable, /, *, key=None, reverse=False)\n",
            "    Return a new list containing all items from the iterable in ascending order.\n",
            "    \n",
            "    A custom key function can be supplied to customize the sort order, and the\n",
            "    reverse flag can be set to request the result in descending order.\n",
            "\n"
          ]
        }
      ]
    },
    {
      "cell_type": "code",
      "source": [
        "help(L)"
      ],
      "metadata": {
        "colab": {
          "base_uri": "https://localhost:8080/"
        },
        "id": "D9r1YObfKLXV",
        "outputId": "57aa82b0-25f2-4588-c9e3-9be413712d62"
      },
      "execution_count": 10,
      "outputs": [
        {
          "output_type": "stream",
          "name": "stdout",
          "text": [
            "Help on list object:\n",
            "\n",
            "class list(object)\n",
            " |  list(iterable=(), /)\n",
            " |  \n",
            " |  Built-in mutable sequence.\n",
            " |  \n",
            " |  If no argument is given, the constructor creates a new empty list.\n",
            " |  The argument must be an iterable if specified.\n",
            " |  \n",
            " |  Methods defined here:\n",
            " |  \n",
            " |  __add__(self, value, /)\n",
            " |      Return self+value.\n",
            " |  \n",
            " |  __contains__(self, key, /)\n",
            " |      Return key in self.\n",
            " |  \n",
            " |  __delitem__(self, key, /)\n",
            " |      Delete self[key].\n",
            " |  \n",
            " |  __eq__(self, value, /)\n",
            " |      Return self==value.\n",
            " |  \n",
            " |  __ge__(self, value, /)\n",
            " |      Return self>=value.\n",
            " |  \n",
            " |  __getattribute__(self, name, /)\n",
            " |      Return getattr(self, name).\n",
            " |  \n",
            " |  __getitem__(...)\n",
            " |      x.__getitem__(y) <==> x[y]\n",
            " |  \n",
            " |  __gt__(self, value, /)\n",
            " |      Return self>value.\n",
            " |  \n",
            " |  __iadd__(self, value, /)\n",
            " |      Implement self+=value.\n",
            " |  \n",
            " |  __imul__(self, value, /)\n",
            " |      Implement self*=value.\n",
            " |  \n",
            " |  __init__(self, /, *args, **kwargs)\n",
            " |      Initialize self.  See help(type(self)) for accurate signature.\n",
            " |  \n",
            " |  __iter__(self, /)\n",
            " |      Implement iter(self).\n",
            " |  \n",
            " |  __le__(self, value, /)\n",
            " |      Return self<=value.\n",
            " |  \n",
            " |  __len__(self, /)\n",
            " |      Return len(self).\n",
            " |  \n",
            " |  __lt__(self, value, /)\n",
            " |      Return self<value.\n",
            " |  \n",
            " |  __mul__(self, value, /)\n",
            " |      Return self*value.\n",
            " |  \n",
            " |  __ne__(self, value, /)\n",
            " |      Return self!=value.\n",
            " |  \n",
            " |  __repr__(self, /)\n",
            " |      Return repr(self).\n",
            " |  \n",
            " |  __reversed__(self, /)\n",
            " |      Return a reverse iterator over the list.\n",
            " |  \n",
            " |  __rmul__(self, value, /)\n",
            " |      Return value*self.\n",
            " |  \n",
            " |  __setitem__(self, key, value, /)\n",
            " |      Set self[key] to value.\n",
            " |  \n",
            " |  __sizeof__(self, /)\n",
            " |      Return the size of the list in memory, in bytes.\n",
            " |  \n",
            " |  append(self, object, /)\n",
            " |      Append object to the end of the list.\n",
            " |  \n",
            " |  clear(self, /)\n",
            " |      Remove all items from list.\n",
            " |  \n",
            " |  copy(self, /)\n",
            " |      Return a shallow copy of the list.\n",
            " |  \n",
            " |  count(self, value, /)\n",
            " |      Return number of occurrences of value.\n",
            " |  \n",
            " |  extend(self, iterable, /)\n",
            " |      Extend list by appending elements from the iterable.\n",
            " |  \n",
            " |  index(self, value, start=0, stop=9223372036854775807, /)\n",
            " |      Return first index of value.\n",
            " |      \n",
            " |      Raises ValueError if the value is not present.\n",
            " |  \n",
            " |  insert(self, index, object, /)\n",
            " |      Insert object before index.\n",
            " |  \n",
            " |  pop(self, index=-1, /)\n",
            " |      Remove and return item at index (default last).\n",
            " |      \n",
            " |      Raises IndexError if list is empty or index is out of range.\n",
            " |  \n",
            " |  remove(self, value, /)\n",
            " |      Remove first occurrence of value.\n",
            " |      \n",
            " |      Raises ValueError if the value is not present.\n",
            " |  \n",
            " |  reverse(self, /)\n",
            " |      Reverse *IN PLACE*.\n",
            " |  \n",
            " |  sort(self, /, *, key=None, reverse=False)\n",
            " |      Stable sort *IN PLACE*.\n",
            " |  \n",
            " |  ----------------------------------------------------------------------\n",
            " |  Static methods defined here:\n",
            " |  \n",
            " |  __new__(*args, **kwargs) from builtins.type\n",
            " |      Create and return a new object.  See help(type) for accurate signature.\n",
            " |  \n",
            " |  ----------------------------------------------------------------------\n",
            " |  Data and other attributes defined here:\n",
            " |  \n",
            " |  __hash__ = None\n",
            "\n"
          ]
        }
      ]
    },
    {
      "cell_type": "markdown",
      "source": [
        "# Diccionarios"
      ],
      "metadata": {
        "id": "i8Ed0nkmj5SF"
      }
    },
    {
      "cell_type": "markdown",
      "source": [
        "## Diccionarios vs listas"
      ],
      "metadata": {
        "id": "1duQLeYoS-TU"
      }
    },
    {
      "cell_type": "code",
      "source": [
        "L=list()\n",
        "n=10000000\n",
        "#creamos una lista con 10M numeros\n",
        "for i in range(n):\n",
        "  L.append(i)\n",
        "# creamos un diccionario con 10M numeros\n",
        "D=dict()\n",
        "for i in range(n):\n",
        "  D[i]=str(i)"
      ],
      "metadata": {
        "id": "0M_Rib4h1xGX"
      },
      "execution_count": 27,
      "outputs": []
    },
    {
      "cell_type": "code",
      "source": [
        "import time\n",
        "start = time.time()\n",
        "f=0\n",
        "for i in range(100):\n",
        " if random.randint(0,n) in L:\n",
        "  f=f+1\n",
        "end = time.time()\n",
        "print(\"Lista\",end - start)"
      ],
      "metadata": {
        "colab": {
          "base_uri": "https://localhost:8080/"
        },
        "id": "zdjughZtUwN1",
        "outputId": "e7fb35a8-cd26-4ccc-8835-98d2454a5cb8"
      },
      "execution_count": 43,
      "outputs": [
        {
          "output_type": "stream",
          "name": "stdout",
          "text": [
            "Lista 7.328480243682861\n"
          ]
        }
      ]
    },
    {
      "cell_type": "code",
      "source": [
        "import time\n",
        "start = time.time()\n",
        "f=0\n",
        "for i in range(100):\n",
        " if random.randint(0,n) in D.keys():\n",
        "  f=f+1\n",
        "end = time.time()\n",
        "print(\"Diccionario\",end - start)"
      ],
      "metadata": {
        "colab": {
          "base_uri": "https://localhost:8080/"
        },
        "id": "Jw1VjvBnWs7n",
        "outputId": "54ae5888-ed6d-4fc2-9353-811c1e99faa7"
      },
      "execution_count": 42,
      "outputs": [
        {
          "output_type": "stream",
          "name": "stdout",
          "text": [
            "Diccionario 0.0005049705505371094\n"
          ]
        }
      ]
    },
    {
      "cell_type": "code",
      "source": [
        "import time\n",
        "# obtener elemento por indice en lista\n",
        "start = time.time()\n",
        "f=0\n",
        "for i in range(1000):\n",
        " a=L[i]\n",
        "end = time.time()\n",
        "print(\"Lista\",end - start)"
      ],
      "metadata": {
        "colab": {
          "base_uri": "https://localhost:8080/"
        },
        "id": "-FjMO5jIZbg2",
        "outputId": "76442dab-b0be-4ca8-b982-01f31ac6d4cf"
      },
      "execution_count": 51,
      "outputs": [
        {
          "output_type": "stream",
          "name": "stdout",
          "text": [
            "Lista 0.00029659271240234375\n"
          ]
        }
      ]
    },
    {
      "cell_type": "markdown",
      "source": [
        "## operaciones con Diccionarios\n"
      ],
      "metadata": {
        "id": "zBFweBWMHAi_"
      }
    },
    {
      "cell_type": "code",
      "source": [
        "# crear diccionarios\n",
        "D=dict()\n",
        "NP={'carlos':1234,'roberto':6655,'camila':1414,'andrea':1212}\n",
        "\n",
        "nombre=input(\"ingrese nombre:\")\n",
        "password=int(input(\"ingrese pass\"))\n",
        "if nombre in NP.keys():\n",
        "  if NP[nombre] == password:\n",
        "   print(\"Welcome\",nombre)\n",
        "  else:\n",
        "   print(\"Password incorrecto\")\n",
        "else:\n",
        "  print(\"Usuario no registrado\")\n"
      ],
      "metadata": {
        "colab": {
          "base_uri": "https://localhost:8080/"
        },
        "id": "y7kqz-5zZ8I4",
        "outputId": "e95971bd-1e47-4778-8477-5e400918fdfb"
      },
      "execution_count": 54,
      "outputs": [
        {
          "output_type": "stream",
          "name": "stdout",
          "text": [
            "ingrese nombre:alex\n",
            "ingrese pass1234\n",
            "Usuario no registrado\n"
          ]
        }
      ]
    },
    {
      "cell_type": "code",
      "source": [
        "dir(D)\n",
        "for i in dir(D):\n",
        "  if not i.startswith(\"__\"):\n",
        "    print(i)"
      ],
      "metadata": {
        "colab": {
          "base_uri": "https://localhost:8080/"
        },
        "id": "gxj3T7uJYpA2",
        "outputId": "da09070f-8959-45f9-e098-2a101ee7ff6f"
      },
      "execution_count": 45,
      "outputs": [
        {
          "output_type": "stream",
          "name": "stdout",
          "text": [
            "clear\n",
            "copy\n",
            "fromkeys\n",
            "get\n",
            "items\n",
            "keys\n",
            "pop\n",
            "popitem\n",
            "setdefault\n",
            "update\n",
            "values\n"
          ]
        }
      ]
    },
    {
      "cell_type": "code",
      "source": [
        "#crear diccionario\n",
        "D=dict()\n",
        "NP={'carlos':1234,'roberto':6655,'camila':1414,'andrea':1212}\n",
        "#acceder por clave\n",
        "print(NP['andrea'])\n",
        "#borra el diccionario\n",
        "NP.clear()\n",
        "NP={'carlos':1234,'roberto':6655,'camila':1414,'andrea':1212}\n",
        "#copiar un diccionario\n",
        "D=NP.copy()\n",
        "print(D)\n",
        "#obtener el valor por clave\n",
        "print(NP.get(\"roberto\"))\n",
        "#items\n",
        "print(NP.items())\n",
        "#claves\n",
        "print(NP.keys())\n",
        "#valores\n",
        "print(NP.values())\n",
        "#eliminar valores por clave\n",
        "a = NP.pop(\"camila\")\n",
        "print(NP, a)"
      ],
      "metadata": {
        "colab": {
          "base_uri": "https://localhost:8080/"
        },
        "id": "rzWF53snfvoe",
        "outputId": "e3881e36-12bd-4078-cc66-f79e14654f66"
      },
      "execution_count": 72,
      "outputs": [
        {
          "output_type": "stream",
          "name": "stdout",
          "text": [
            "1212\n",
            "{'carlos': 1234, 'roberto': 6655, 'camila': 1414, 'andrea': 1212}\n",
            "6655\n",
            "dict_items([('carlos', 1234), ('roberto', 6655), ('camila', 1414), ('andrea', 1212)])\n",
            "dict_keys(['carlos', 'roberto', 'camila', 'andrea'])\n",
            "dict_values([1234, 6655, 1414, 1212])\n",
            "{'carlos': 1234, 'roberto': 6655, 'andrea': 1212} 1414\n"
          ]
        }
      ]
    },
    {
      "cell_type": "code",
      "source": [
        "help(D.setdefault)"
      ],
      "metadata": {
        "colab": {
          "base_uri": "https://localhost:8080/"
        },
        "id": "eMjcn0zAgMkE",
        "outputId": "6f6634b0-3f42-458a-ae57-4248aded0e07"
      },
      "execution_count": 70,
      "outputs": [
        {
          "output_type": "stream",
          "name": "stdout",
          "text": [
            "Help on built-in function setdefault:\n",
            "\n",
            "setdefault(key, default=None, /) method of builtins.dict instance\n",
            "    Insert key with a value of default if key is not in the dictionary.\n",
            "    \n",
            "    Return the value for key if key is in the dictionary, else default.\n",
            "\n"
          ]
        }
      ]
    },
    {
      "cell_type": "markdown",
      "source": [
        "# Funciones"
      ],
      "metadata": {
        "id": "i9HEDN3wMSrj"
      }
    },
    {
      "cell_type": "code",
      "source": [
        "def restar(a,b):\n",
        "  return a - b\n",
        "#llamando la nueva funcion\n",
        "print(restar(5,2))\n",
        "print(restar(9,5))  "
      ],
      "metadata": {
        "id": "Po15dB8XHJ9m",
        "colab": {
          "base_uri": "https://localhost:8080/"
        },
        "outputId": "9942ddb4-0b0e-475d-8ab9-16d3fb3d870a"
      },
      "execution_count": 74,
      "outputs": [
        {
          "output_type": "stream",
          "name": "stdout",
          "text": [
            "3\n",
            "4\n"
          ]
        }
      ]
    },
    {
      "cell_type": "code",
      "source": [
        "def xxx(n):\n",
        "  i=0\n",
        "  t=0\n",
        "  while i < n:\n",
        "   t=t+i\n",
        "   i=i+1\n",
        "  \n",
        "  return t\n",
        "\n",
        "print(xxx(10))\n",
        "print(xxx(6))"
      ],
      "metadata": {
        "colab": {
          "base_uri": "https://localhost:8080/"
        },
        "id": "mX5stkKWqaJz",
        "outputId": "10a35dcc-5adc-440f-f197-b2d623eca776"
      },
      "execution_count": 77,
      "outputs": [
        {
          "output_type": "stream",
          "name": "stdout",
          "text": [
            "45\n",
            "15\n"
          ]
        }
      ]
    },
    {
      "cell_type": "code",
      "source": [
        "def zzzz(lista):\n",
        "  total=0\n",
        "  for i in lista:\n",
        "   total=total+i\n",
        "  return total/len(lista)\n",
        "\n",
        "L=[1,2,5,6,9,10]\n",
        "\n",
        "print(zzzz(L))"
      ],
      "metadata": {
        "colab": {
          "base_uri": "https://localhost:8080/"
        },
        "id": "yI0ltsKxrV_T",
        "outputId": "7933499a-292f-447f-f413-2fa8b73bc24f"
      },
      "execution_count": 79,
      "outputs": [
        {
          "output_type": "stream",
          "name": "stdout",
          "text": [
            "5.5\n"
          ]
        }
      ]
    },
    {
      "cell_type": "code",
      "source": [
        "def yyyy(lista):\n",
        "  m = -1\n",
        "  for i in lista:\n",
        "    if(i > m):\n",
        "      m=i\n",
        "  return m\n",
        "\n",
        "print(yyyy(L))"
      ],
      "metadata": {
        "colab": {
          "base_uri": "https://localhost:8080/"
        },
        "id": "87gGAX1csBnd",
        "outputId": "e70cd19e-2f42-45b9-8ed6-d656ca8c457f"
      },
      "execution_count": 80,
      "outputs": [
        {
          "output_type": "stream",
          "name": "stdout",
          "text": [
            "10\n"
          ]
        }
      ]
    },
    {
      "cell_type": "markdown",
      "source": [
        "# Ejercicios\n",
        "\n",
        "1. Cree un diccionario y imprima sus claves en un ciclo for.\n",
        "1. Acceda a un elemento del diccionario utilizando get, []. luego elimine tal elemento e imprima los valores utilizando ciclo for.\n",
        "3. Escribir un programa que guarde en un diccionario los precios de las frutas de la tabla, pregunte al usuario por una fruta, un número de kilos y muestre por pantalla el precio de ese número de kilos de fruta. Si la fruta no está en el diccionario debe mostrar un mensaje informando de ello.\n",
        "\n",
        "| Fruta | Precio|\n",
        "|:-|:-:|\n",
        "|Plátano | 1.35 |\n",
        "|Manzana | 0.80|\n",
        "|Pera| 0.85|\n",
        "|Naranja | 0.70|\n",
        "\n",
        "4. Escribir un programa que cree un diccionario vacío y lo vaya llenado con información sobre una persona (por ejemplo nombre, edad, sexo, teléfono, correo electrónico, etc.) que se le pida al usuario. Cada vez que se añada un nuevo dato debe imprimirse el contenido del diccionario.\n",
        "\n",
        "5. Escribir una función que calcule el total de una factura tras aplicarle el IVA. La función debe recibir la cantidad sin IVA y el porcentaje de IVA a aplicar, y devolver el total de la factura. Si se invoca la función sin pasarle el porcentaje de IVA, deberá aplicar un 21%.\n",
        "\n",
        "6. Escribir una función que reciba una muestra de números en una lista y devuelva otra lista con sus cuadrados.\n",
        "\n",
        "7. Escribir una función que convierta un número decimal en binario y otra que convierta un número binario en decimal."
      ],
      "metadata": {
        "id": "0hsQkGiPZfRc"
      }
    }
  ]
}