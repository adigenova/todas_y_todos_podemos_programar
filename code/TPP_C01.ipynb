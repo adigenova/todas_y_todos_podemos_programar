{
  "nbformat": 4,
  "nbformat_minor": 0,
  "metadata": {
    "colab": {
      "name": "TPP_C01.ipynb",
      "provenance": [],
      "authorship_tag": "ABX9TyPyPpDfOEJMQhwm1daM11HC",
      "include_colab_link": true
    },
    "kernelspec": {
      "name": "python3",
      "display_name": "Python 3"
    },
    "language_info": {
      "name": "python"
    }
  },
  "cells": [
    {
      "cell_type": "markdown",
      "metadata": {
        "id": "view-in-github",
        "colab_type": "text"
      },
      "source": [
        "<a href=\"https://colab.research.google.com/github/adigenova/tpp/blob/main/code/TPP_C01.ipynb\" target=\"_parent\"><img src=\"https://colab.research.google.com/assets/colab-badge.svg\" alt=\"Open In Colab\"/></a>"
      ]
    },
    {
      "cell_type": "markdown",
      "source": [
        "# Todas y todos podemos programar\n",
        "Este taller busca entregar competencias basicas de programación a estudiantes de tercero y Cuarto Medio.\n"
      ],
      "metadata": {
        "id": "4cyzIFHpRbnL"
      }
    },
    {
      "cell_type": "markdown",
      "source": [
        "## Hello world en python"
      ],
      "metadata": {
        "id": "vORbYoFfRll_"
      }
    },
    {
      "cell_type": "code",
      "execution_count": null,
      "metadata": {
        "colab": {
          "base_uri": "https://localhost:8080/"
        },
        "id": "zmI6UGP9RV-8",
        "outputId": "7e9d187a-6740-4b7b-b7af-c877cb21f666"
      },
      "outputs": [
        {
          "output_type": "stream",
          "name": "stdout",
          "text": [
            "hello world\n"
          ]
        }
      ],
      "source": [
        "print(\"hello world\")"
      ]
    },
    {
      "cell_type": "markdown",
      "source": [
        "## Obteniendo información"
      ],
      "metadata": {
        "id": "DPK-8-PJR1r8"
      }
    },
    {
      "cell_type": "code",
      "source": [
        "!python --version"
      ],
      "metadata": {
        "colab": {
          "base_uri": "https://localhost:8080/"
        },
        "id": "IwkCBiq0R-KE",
        "outputId": "b2e1dad8-47b4-4b96-8dca-627d1b224019"
      },
      "execution_count": null,
      "outputs": [
        {
          "output_type": "stream",
          "name": "stdout",
          "text": [
            "Python 3.7.13\n"
          ]
        }
      ]
    },
    {
      "cell_type": "markdown",
      "source": [
        "## Creando mi primera variable"
      ],
      "metadata": {
        "id": "NcS4ofs2SWQy"
      }
    },
    {
      "cell_type": "code",
      "source": [
        "mensaje = \"hello world\"\n",
        "print(mensaje)"
      ],
      "metadata": {
        "colab": {
          "base_uri": "https://localhost:8080/"
        },
        "id": "e89cVEJwSa-z",
        "outputId": "c1ee1dc3-8247-466b-9047-5f957579be15"
      },
      "execution_count": null,
      "outputs": [
        {
          "output_type": "stream",
          "name": "stdout",
          "text": [
            "hello world\n"
          ]
        }
      ]
    },
    {
      "cell_type": "markdown",
      "source": [
        "En python podemos comentar/ignorar lineas de codigo utilizando el simbolo #"
      ],
      "metadata": {
        "id": "fjWaC456Bos-"
      }
    },
    {
      "cell_type": "code",
      "source": [
        "mensaje = \"hello word\"\n",
        "# comentario para una linea\n",
        "print(mensaje)"
      ],
      "metadata": {
        "id": "SbuZNepJB0JH"
      },
      "execution_count": null,
      "outputs": []
    },
    {
      "cell_type": "markdown",
      "source": [
        "Podemos ignorar multiples lineas utilizando \"\"\""
      ],
      "metadata": {
        "id": "pwHjWKB1UpUl"
      }
    },
    {
      "cell_type": "code",
      "source": [
        "mensaje = \"Hola Mundo\"\n",
        "\"\"\" ahora utilizaremos \n",
        "un commentarios de multiples\n",
        "lineas \"\"\"\n",
        "print(mensaje)"
      ],
      "metadata": {
        "id": "KJCf1PYPUtrO"
      },
      "execution_count": null,
      "outputs": []
    },
    {
      "cell_type": "markdown",
      "source": [
        "## Para que sirven las siguientes intrucciones?"
      ],
      "metadata": {
        "id": "4VJ5AAANSkDF"
      }
    },
    {
      "cell_type": "code",
      "source": [
        "6 + 7"
      ],
      "metadata": {
        "id": "iUbCHx2JS_Oh"
      },
      "execution_count": null,
      "outputs": []
    },
    {
      "cell_type": "code",
      "source": [
        "10 - 5"
      ],
      "metadata": {
        "id": "XlLRTm3STj7G"
      },
      "execution_count": null,
      "outputs": []
    },
    {
      "cell_type": "code",
      "source": [
        "3 * 6"
      ],
      "metadata": {
        "id": "qFwZRsfHTG4b"
      },
      "execution_count": null,
      "outputs": []
    },
    {
      "cell_type": "code",
      "source": [
        "6 / 3"
      ],
      "metadata": {
        "id": "VLgdlP1STLFv"
      },
      "execution_count": null,
      "outputs": []
    },
    {
      "cell_type": "code",
      "source": [
        "10//3"
      ],
      "metadata": {
        "id": "Kb6NKPkC_2nN",
        "outputId": "c904dbcd-921c-4ceb-c084-11578159ac02",
        "colab": {
          "base_uri": "https://localhost:8080/"
        }
      },
      "execution_count": 2,
      "outputs": [
        {
          "output_type": "execute_result",
          "data": {
            "text/plain": [
              "3"
            ]
          },
          "metadata": {},
          "execution_count": 2
        }
      ]
    },
    {
      "cell_type": "markdown",
      "source": [
        "Qué hacen los operadores *, /, // ? Prueba con otros numeros.\n"
      ],
      "metadata": {
        "id": "E7Nk9c48z3SS"
      }
    },
    {
      "cell_type": "code",
      "source": [
        "6 % 5"
      ],
      "metadata": {
        "id": "Nj932as0TQD-"
      },
      "execution_count": null,
      "outputs": []
    },
    {
      "cell_type": "code",
      "source": [
        "2 ** 3"
      ],
      "metadata": {
        "id": "itTPktj4TTLe"
      },
      "execution_count": null,
      "outputs": []
    },
    {
      "cell_type": "markdown",
      "source": [
        "Qué hacen los operadores %, **? Prueba con otros numeros."
      ],
      "metadata": {
        "id": "itcEZ6RkBe-O"
      }
    },
    {
      "cell_type": "code",
      "source": [
        "a = 5\n",
        "b = 10\n",
        "print(a+b)"
      ],
      "metadata": {
        "id": "GWKtNaODTWMy"
      },
      "execution_count": null,
      "outputs": []
    },
    {
      "cell_type": "code",
      "source": [
        "c = 7\n",
        "a + b + c"
      ],
      "metadata": {
        "id": "H4wmLpq5TpLT"
      },
      "execution_count": null,
      "outputs": []
    },
    {
      "cell_type": "code",
      "source": [
        "a * b + c"
      ],
      "metadata": {
        "id": "6wfKEMDyTu1v"
      },
      "execution_count": null,
      "outputs": []
    },
    {
      "cell_type": "code",
      "source": [
        "a * (b + c)"
      ],
      "metadata": {
        "id": "Q5DayzSuT1lh"
      },
      "execution_count": null,
      "outputs": []
    },
    {
      "cell_type": "code",
      "source": [
        "(6 + (7 - 5) * 8 + 4)/(1 + 1)"
      ],
      "metadata": {
        "id": "TooEoJryUIkd"
      },
      "execution_count": null,
      "outputs": []
    },
    {
      "cell_type": "markdown",
      "source": [
        "## Errores en python"
      ],
      "metadata": {
        "id": "eLCGqnFiCHjd"
      }
    },
    {
      "cell_type": "code",
      "source": [
        "# determine done esta el error\n",
        "mensaje = \"Hello world\"\n",
        "print(menSaje)"
      ],
      "metadata": {
        "id": "F15zdDjuCNQS"
      },
      "execution_count": null,
      "outputs": []
    },
    {
      "cell_type": "code",
      "source": [
        "print(animal)"
      ],
      "metadata": {
        "id": "zBNFwpcnCYpv"
      },
      "execution_count": null,
      "outputs": []
    },
    {
      "cell_type": "code",
      "source": [
        "mensaje= \"Hola Mundo\"\n",
        " print(mensaje)"
      ],
      "metadata": {
        "id": "Y2UVHUg1CdHW"
      },
      "execution_count": null,
      "outputs": []
    }
  ]
}