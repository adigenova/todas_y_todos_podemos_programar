{
  "nbformat": 4,
  "nbformat_minor": 0,
  "metadata": {
    "colab": {
      "name": "TPP_C01.ipynb",
      "provenance": [],
      "authorship_tag": "ABX9TyPszPW+Xbhpk3aD8YUavKBP",
      "include_colab_link": true
    },
    "kernelspec": {
      "name": "python3",
      "display_name": "Python 3"
    },
    "language_info": {
      "name": "python"
    }
  },
  "cells": [
    {
      "cell_type": "markdown",
      "metadata": {
        "id": "view-in-github",
        "colab_type": "text"
      },
      "source": [
        "<a href=\"https://colab.research.google.com/github/adigenova/tpp/blob/main/code/TPP_C01.ipynb\" target=\"_parent\"><img src=\"https://colab.research.google.com/assets/colab-badge.svg\" alt=\"Open In Colab\"/></a>"
      ]
    },
    {
      "cell_type": "markdown",
      "source": [
        "# Todas y todos podemos programar\n",
        "Este **taller** busca entregar competencias basicas de programación a estudiantes de *tercero* y *Cuarto* Medio.\n"
      ],
      "metadata": {
        "id": "4cyzIFHpRbnL"
      }
    },
    {
      "cell_type": "markdown",
      "source": [
        "## Hello world en python"
      ],
      "metadata": {
        "id": "vORbYoFfRll_"
      }
    },
    {
      "cell_type": "code",
      "execution_count": 26,
      "metadata": {
        "id": "zmI6UGP9RV-8",
        "outputId": "50a533f4-4738-47f0-a2b6-45594cead428",
        "colab": {
          "base_uri": "https://localhost:8080/"
        }
      },
      "outputs": [
        {
          "output_type": "stream",
          "name": "stdout",
          "text": [
            "hello world\n"
          ]
        }
      ],
      "source": [
        "print(\"hello world\")"
      ]
    },
    {
      "cell_type": "code",
      "source": [
        "print(\"Hola Mundo\")"
      ],
      "metadata": {
        "id": "yQSFg6C0g6M8",
        "outputId": "b32545ed-3acb-4ea5-9bdf-65a2ee2632ca",
        "colab": {
          "base_uri": "https://localhost:8080/"
        }
      },
      "execution_count": 25,
      "outputs": [
        {
          "output_type": "stream",
          "name": "stdout",
          "text": [
            "Hola Mundo\n"
          ]
        }
      ]
    },
    {
      "cell_type": "markdown",
      "source": [
        "## Obteniendo información"
      ],
      "metadata": {
        "id": "DPK-8-PJR1r8"
      }
    },
    {
      "cell_type": "code",
      "source": [
        "!python --version"
      ],
      "metadata": {
        "id": "IwkCBiq0R-KE",
        "outputId": "9aab10cf-6965-4314-d694-37537eccb788",
        "colab": {
          "base_uri": "https://localhost:8080/"
        }
      },
      "execution_count": 27,
      "outputs": [
        {
          "output_type": "stream",
          "name": "stdout",
          "text": [
            "Python 3.7.13\n"
          ]
        }
      ]
    },
    {
      "cell_type": "markdown",
      "source": [
        "## Creando mi primera variable"
      ],
      "metadata": {
        "id": "NcS4ofs2SWQy"
      }
    },
    {
      "cell_type": "code",
      "source": [
        "mensaje = \"hello world\"\n",
        "print(mensaje)"
      ],
      "metadata": {
        "id": "e89cVEJwSa-z"
      },
      "execution_count": null,
      "outputs": []
    },
    {
      "cell_type": "markdown",
      "source": [
        "En python podemos comentar/ignorar lineas de codigo utilizando el simbolo #"
      ],
      "metadata": {
        "id": "fjWaC456Bos-"
      }
    },
    {
      "cell_type": "code",
      "source": [
        "mensaje = \"hello word\"\n",
        "# comentario para una linea\n",
        "print(mensaje)"
      ],
      "metadata": {
        "id": "SbuZNepJB0JH",
        "outputId": "4b573c42-0323-4240-af68-308de6b4c86a",
        "colab": {
          "base_uri": "https://localhost:8080/"
        }
      },
      "execution_count": 28,
      "outputs": [
        {
          "output_type": "stream",
          "name": "stdout",
          "text": [
            "hello word\n"
          ]
        }
      ]
    },
    {
      "cell_type": "markdown",
      "source": [
        "Podemos ignorar multiples lineas utilizando \"\"\""
      ],
      "metadata": {
        "id": "pwHjWKB1UpUl"
      }
    },
    {
      "cell_type": "code",
      "source": [
        "mensaje = \"Hola Mundo\"\n",
        "\"\"\" ahora utilizaremos \n",
        "un commentarios de multiples\n",
        "lineas \"\"\"\n",
        "print(mensaje)"
      ],
      "metadata": {
        "id": "KJCf1PYPUtrO",
        "outputId": "82b2c34b-a0ee-4c3d-b1a2-3cb87ba6f498",
        "colab": {
          "base_uri": "https://localhost:8080/"
        }
      },
      "execution_count": 29,
      "outputs": [
        {
          "output_type": "stream",
          "name": "stdout",
          "text": [
            "Hola Mundo\n"
          ]
        }
      ]
    },
    {
      "cell_type": "markdown",
      "source": [
        "## Para que sirven las siguientes intrucciones?"
      ],
      "metadata": {
        "id": "4VJ5AAANSkDF"
      }
    },
    {
      "cell_type": "code",
      "source": [
        "# suma 13\n",
        "6 + 7 + 4 + 5"
      ],
      "metadata": {
        "id": "iUbCHx2JS_Oh",
        "outputId": "660beaa9-ad57-4622-b6b6-a7e7e13a8c9e",
        "colab": {
          "base_uri": "https://localhost:8080/"
        }
      },
      "execution_count": 40,
      "outputs": [
        {
          "output_type": "execute_result",
          "data": {
            "text/plain": [
              "22"
            ]
          },
          "metadata": {},
          "execution_count": 40
        }
      ]
    },
    {
      "cell_type": "code",
      "source": [
        "# resta\n",
        "10 - 5"
      ],
      "metadata": {
        "id": "XlLRTm3STj7G",
        "outputId": "f04a8a3c-1167-4c7e-9a56-f0dcdd037291",
        "colab": {
          "base_uri": "https://localhost:8080/"
        }
      },
      "execution_count": 31,
      "outputs": [
        {
          "output_type": "execute_result",
          "data": {
            "text/plain": [
              "5"
            ]
          },
          "metadata": {},
          "execution_count": 31
        }
      ]
    },
    {
      "cell_type": "code",
      "source": [
        "# multiplicacion 18\n",
        "3 * 6"
      ],
      "metadata": {
        "id": "qFwZRsfHTG4b",
        "outputId": "488b630b-c168-4e63-ae1e-35932966d7f8",
        "colab": {
          "base_uri": "https://localhost:8080/"
        }
      },
      "execution_count": 32,
      "outputs": [
        {
          "output_type": "execute_result",
          "data": {
            "text/plain": [
              "18"
            ]
          },
          "metadata": {},
          "execution_count": 32
        }
      ]
    },
    {
      "cell_type": "code",
      "source": [
        "# division \n",
        "8 / 3"
      ],
      "metadata": {
        "id": "VLgdlP1STLFv",
        "outputId": "80c0929b-864b-4a26-ea10-3d75ce2c6780",
        "colab": {
          "base_uri": "https://localhost:8080/"
        }
      },
      "execution_count": 35,
      "outputs": [
        {
          "output_type": "execute_result",
          "data": {
            "text/plain": [
              "2.6666666666666665"
            ]
          },
          "metadata": {},
          "execution_count": 35
        }
      ]
    },
    {
      "cell_type": "code",
      "source": [
        "# division entera\n",
        "12//3"
      ],
      "metadata": {
        "colab": {
          "base_uri": "https://localhost:8080/"
        },
        "id": "Kb6NKPkC_2nN",
        "outputId": "f3c223a4-246b-4418-f8d6-db583e9f6edc"
      },
      "execution_count": 38,
      "outputs": [
        {
          "output_type": "execute_result",
          "data": {
            "text/plain": [
              "4"
            ]
          },
          "metadata": {},
          "execution_count": 38
        }
      ]
    },
    {
      "cell_type": "markdown",
      "source": [
        "Qué hacen los operadores *, /, // ? Prueba con otros numeros.\n"
      ],
      "metadata": {
        "id": "E7Nk9c48z3SS"
      }
    },
    {
      "cell_type": "code",
      "source": [
        "# modulo \n",
        "10 % 5"
      ],
      "metadata": {
        "id": "Nj932as0TQD-",
        "outputId": "5cb40f7f-25d7-4a0b-911b-7e40d0e1673e",
        "colab": {
          "base_uri": "https://localhost:8080/"
        }
      },
      "execution_count": 43,
      "outputs": [
        {
          "output_type": "execute_result",
          "data": {
            "text/plain": [
              "0"
            ]
          },
          "metadata": {},
          "execution_count": 43
        }
      ]
    },
    {
      "cell_type": "code",
      "source": [
        "# exponencial 2 * 2 * 2\n",
        "5 ** 10000"
      ],
      "metadata": {
        "id": "itTPktj4TTLe",
        "outputId": "a0da7d45-e812-4af9-8db1-498845ab8fdf",
        "colab": {
          "base_uri": "https://localhost:8080/"
        }
      },
      "execution_count": 51,
      "outputs": [
        {
          "output_type": "execute_result",
          "data": {
            "text/plain": [
              "501237274920645200929755593374297774932156778133842583942142904227923953095078404018911069624842241336152184928620583720813274431768912730164821689547957811858742091111606122893848778402106681337735526081024957895721629712394089914022728984790421934879061713094772548592209108202603733257290166745030824473942446932040528665942308995221516922485809786795148731596082421380780454150838788867016523039922373131038641998175346338422877206054827564503235371169342436537325371943262018889434939990352804741697175505229254495331805689764874397989923275238841523573610576685490726802859819243653745732469692095356139819452233638457056770021400240594885718525026966278533101472229720144032290786176830303145623665755496360435599490323650572513025568234813704903083110444967390315478507643109709272470218811875684828428764846892265382195023886652123717092319225795594504960409044935368159521323778477017741777612142181821006771410662559184976660999925725059040493322464748516167697539730940448840082455864794427615836054554791385680376240555705705310640418914818432725632573900544375824289225110055381037572119488782802137254540743080359621754381456908672408840312897273852983806583141222160707728822053038238791525934900318958546031249932024098120872828088522712585702762195822969999737149010278411273267955845307034422962301693341819997141990129612648433981620894792079019269779218590761005440910777627130764809098131096632482838769231241354777310560506433916680450440171003075072638112146980748862972946289929742675258203358925444444756128485856884144877414969242528666963578568637990776356798944244368071275509913087832493228358727719463576937914165532431608736295823935850859602956501109544230207150342931374544601730528542990287355117226857435878992634677538783076731943101431231045219781733374608602456168971026916693136158979776343356397548327322689834826808251734636541021077910049779023642268457966054797804824736355644137564830595195451710237567879066439637258863004431176018386776125128648907629975770682763734191612197885648987874414165677042966711549856588653598408785500510685422317100298636543095941781200665686910806676041791991660514805632001035661874841652588320725707204618392142041484225612192457193974542099053730847597863337709199087948240520374012043494856466305707081247481972202946367819195209595885576564985479790372415190677667000598731151849814821780123592208917642142030152030072345481433382028329653192843312897129746236431981037750673145698908171385842694922445274810025912238416221522964351310630716198843932889821072030767508727091189405842713600224696110573235906544878846905387077857714046817137263818949931999780818432216728143326751002084575991984448963126429329855626472693024632620284389189569670626615141486480804667453766420052496208897899505339796907075749537925047639481099763394122954271668354214390461767075418949890757259815191735264809970480070623361261573386514423542116869959176227001051563415790066616730825389882550260549507356114926580661910358222186375052336626266396402920632455598407896677249075761328197632867250849378782054312978742146244372951153580324736875773015930589182005552613663380708208872090140751121108070186419534331882423382367231944116724985872384527946229533975200406009001175802553214211153583756335157100765941906016450622721056054785607907185614408709570609828729532194324073488303302169036381960864388576191326222063244533733156581375408659001285321684805335368617568283346867216329052732662620063658741831668787969703213340473542743542428508141091255419451769988466856089208450520741907702099600483335498521201163906681930066993336236094152793640529094686014991047088567105036260241152984467148870713490171710544611678764028106865825472006041963865952640276359450204310988738219705820340812476815469097461226193788465670121137455267380417275432557572871608813126741106427067715077700446202963319028927281969031661662735406952175070643446625878004294217525925732787544471487517642287816665575212425898205804148211536011850940665603144025098461900787902851141978648684835989682954921587387359499174492624708879549495025699365621180548950685097839585688157497849803802821714251372580052696412724434703674022001063816114251886079232743396991596837423584366398189226464881419833119900753928453879213723358991885164427168096353272861050545472688805451103643848013764843560502057319564217463145659707549025084226202528260927064071986667392548726459671172876646857330843589064031642100599431845417950711812059033443567112212757966231091347086555913182834014996628737859860706363179544558644455988199239032683220585664732242414913300291805168883958416214643036502478617783596157493232794260645582238010867705342559140264228808665610103214830997010446445153510172728006955669405306868569284423345052162076133101082758484204592864812776997646686279848506911866956485835893139608450871727100347954363706373163539008250530086790356183908280480933561398765472391006350924115874795796908769162764935162685121217250587170981896177333661824521517740754624065791036389274734921852267489894296164575044519359650614378654414198029034981769790845165837795906046315032565519352696462766106466774105071205787834267206183069164777673655331271336759603320460173126429741103074617460051610779377015122759270981845734044825361795166155820300919677836620236783353179010718633301247076648569928200445002452215470840284904784133729178494401821202806372418839442985275000609749798001855744591950991476089426637337222360186304365734543808390772428120270178709737770267613656623033355067765430185322107356853491344895509147430824382392603123813423730008797670095034073316230771848727933146860746745865795444364424130996435352645486982951723440522148302297083635331266905503420769986068776339277919600600368562314114319743568285546959663177509148945038701976847256620199663340609479213006239431672152430633078299619196445931106142003725770997007643638057570970191655409277156373433106416281124602277596026388331031116019967860952401669705220529365900799553267986640809567406320362311743977122119131956453604985607765737547440970987459542154102203452263287960968377547987715890093752997493407388257508916131741723862220177236888963407540326619079083531045575460224805677770108749031517837167683210260625791674114454386967291103177135211139321709106870148546832706900213216476908287228957454762017329216819341562992732298419110445451173007065816069528688872728858045204300785998475316449398597840062316796782985809958338705685529092798256957500833068994134050768770009905366006611480101959982790150501190128112172125707025128669728944606022132595881423926619388931735753935389312422762490037327411044350459969394535298110306704469261006337618669413404428685440302666300633585405872847618283921044509855877458728129059338704479794048883771725188957128263876122473094366610892593268417179320764593045997353942365453235709236555445002641997162224383683243256227625731486390554649930202182755869676383936027544370832840538165786625768305384553968906402587890625"
            ]
          },
          "metadata": {},
          "execution_count": 51
        }
      ]
    },
    {
      "cell_type": "markdown",
      "source": [
        "Qué hacen los operadores %, **? Prueba con otros numeros."
      ],
      "metadata": {
        "id": "itcEZ6RkBe-O"
      }
    },
    {
      "cell_type": "code",
      "source": [
        "# Cual es el resultado de las siguientes operaciones.\n",
        "a = 1\n",
        "b = 1\n",
        "print(a+b)"
      ],
      "metadata": {
        "id": "GWKtNaODTWMy",
        "outputId": "1c7941fc-6193-42b9-e9cc-16a086e2fb1f",
        "colab": {
          "base_uri": "https://localhost:8080/"
        }
      },
      "execution_count": 58,
      "outputs": [
        {
          "output_type": "stream",
          "name": "stdout",
          "text": [
            "2\n"
          ]
        }
      ]
    },
    {
      "cell_type": "code",
      "source": [
        "a = 10\n",
        "b = 3\n"
      ],
      "metadata": {
        "id": "SR1E_9veqlZF"
      },
      "execution_count": 60,
      "outputs": []
    },
    {
      "cell_type": "code",
      "source": [
        "c = 7\n",
        "a + b + c"
      ],
      "metadata": {
        "id": "H4wmLpq5TpLT",
        "outputId": "0a03d144-32c0-4f89-ee12-42c9d436abb3",
        "colab": {
          "base_uri": "https://localhost:8080/"
        }
      },
      "execution_count": 61,
      "outputs": [
        {
          "output_type": "execute_result",
          "data": {
            "text/plain": [
              "20"
            ]
          },
          "metadata": {},
          "execution_count": 61
        }
      ]
    },
    {
      "cell_type": "code",
      "source": [
        "a * b + c"
      ],
      "metadata": {
        "id": "6wfKEMDyTu1v",
        "outputId": "1a26c199-c45d-4811-c583-8cdf8f1c8b13",
        "colab": {
          "base_uri": "https://localhost:8080/"
        }
      },
      "execution_count": 62,
      "outputs": [
        {
          "output_type": "execute_result",
          "data": {
            "text/plain": [
              "37"
            ]
          },
          "metadata": {},
          "execution_count": 62
        }
      ]
    },
    {
      "cell_type": "code",
      "source": [
        "a * (b + c)"
      ],
      "metadata": {
        "id": "Q5DayzSuT1lh",
        "outputId": "ad741256-b1cc-49b7-df6d-525f6ffe57c5",
        "colab": {
          "base_uri": "https://localhost:8080/"
        }
      },
      "execution_count": 56,
      "outputs": [
        {
          "output_type": "execute_result",
          "data": {
            "text/plain": [
              "85"
            ]
          },
          "metadata": {},
          "execution_count": 56
        }
      ]
    },
    {
      "cell_type": "code",
      "source": [
        "(6 + (7 - 5) * 8 + 4)/(1 + 1)"
      ],
      "metadata": {
        "id": "TooEoJryUIkd",
        "outputId": "4a9a9d19-0d15-4349-a7cd-3f224990c27d",
        "colab": {
          "base_uri": "https://localhost:8080/"
        }
      },
      "execution_count": 57,
      "outputs": [
        {
          "output_type": "execute_result",
          "data": {
            "text/plain": [
              "13.0"
            ]
          },
          "metadata": {},
          "execution_count": 57
        }
      ]
    },
    {
      "cell_type": "markdown",
      "source": [
        "## Algunos errores en python"
      ],
      "metadata": {
        "id": "eLCGqnFiCHjd"
      }
    },
    {
      "cell_type": "code",
      "source": [
        "a = 5\n",
        "b = \"10\"\n",
        "a + b"
      ],
      "metadata": {
        "id": "JYAAZrAGoYpy"
      },
      "execution_count": null,
      "outputs": []
    },
    {
      "cell_type": "code",
      "source": [
        "# determine donde esta el error\n",
        "mensaje = \"Hello world\"\n",
        "print(menSaje)"
      ],
      "metadata": {
        "id": "F15zdDjuCNQS"
      },
      "execution_count": null,
      "outputs": []
    },
    {
      "cell_type": "code",
      "source": [
        "# determine donde esta el error\n",
        "print(animal)"
      ],
      "metadata": {
        "id": "zBNFwpcnCYpv"
      },
      "execution_count": null,
      "outputs": []
    },
    {
      "cell_type": "code",
      "source": [
        "# determine donde esta el error\n",
        "mensaje= \"Hola Mundo\"\n",
        " print(mensaje)"
      ],
      "metadata": {
        "id": "Y2UVHUg1CdHW"
      },
      "execution_count": null,
      "outputs": []
    }
  ]
}