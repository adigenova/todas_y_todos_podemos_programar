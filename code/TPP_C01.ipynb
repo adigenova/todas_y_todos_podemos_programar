{
  "nbformat": 4,
  "nbformat_minor": 0,
  "metadata": {
    "colab": {
      "name": "TPP_C01.ipynb",
      "provenance": [],
      "authorship_tag": "ABX9TyMGtcd8g2iiyZypKCx4RwzE",
      "include_colab_link": true
    },
    "kernelspec": {
      "name": "python3",
      "display_name": "Python 3"
    },
    "language_info": {
      "name": "python"
    }
  },
  "cells": [
    {
      "cell_type": "markdown",
      "metadata": {
        "id": "view-in-github",
        "colab_type": "text"
      },
      "source": [
        "<a href=\"https://colab.research.google.com/github/adigenova/tpp/blob/main/code/TPP_C01.ipynb\" target=\"_parent\"><img src=\"https://colab.research.google.com/assets/colab-badge.svg\" alt=\"Open In Colab\"/></a>"
      ]
    },
    {
      "cell_type": "markdown",
      "source": [
        "# Todas y todos podemos programar\n",
        "Este taller busca entregar competencias basicas de programación a estudiantes de tercero y Cuarto Medio.\n"
      ],
      "metadata": {
        "id": "4cyzIFHpRbnL"
      }
    },
    {
      "cell_type": "markdown",
      "source": [
        "## Hello world en python"
      ],
      "metadata": {
        "id": "vORbYoFfRll_"
      }
    },
    {
      "cell_type": "code",
      "execution_count": 2,
      "metadata": {
        "colab": {
          "base_uri": "https://localhost:8080/"
        },
        "id": "zmI6UGP9RV-8",
        "outputId": "7e9d187a-6740-4b7b-b7af-c877cb21f666"
      },
      "outputs": [
        {
          "output_type": "stream",
          "name": "stdout",
          "text": [
            "hello world\n"
          ]
        }
      ],
      "source": [
        "print(\"hello world\")"
      ]
    },
    {
      "cell_type": "markdown",
      "source": [
        "## Obteniendo información"
      ],
      "metadata": {
        "id": "DPK-8-PJR1r8"
      }
    },
    {
      "cell_type": "code",
      "source": [
        "!python --version"
      ],
      "metadata": {
        "colab": {
          "base_uri": "https://localhost:8080/"
        },
        "id": "IwkCBiq0R-KE",
        "outputId": "b2e1dad8-47b4-4b96-8dca-627d1b224019"
      },
      "execution_count": 3,
      "outputs": [
        {
          "output_type": "stream",
          "name": "stdout",
          "text": [
            "Python 3.7.13\n"
          ]
        }
      ]
    },
    {
      "cell_type": "markdown",
      "source": [
        "## Creando mi primera variable"
      ],
      "metadata": {
        "id": "NcS4ofs2SWQy"
      }
    },
    {
      "cell_type": "code",
      "source": [
        "mensaje = \"hello world\"\n",
        "print(mensaje)"
      ],
      "metadata": {
        "colab": {
          "base_uri": "https://localhost:8080/"
        },
        "id": "e89cVEJwSa-z",
        "outputId": "c1ee1dc3-8247-466b-9047-5f957579be15"
      },
      "execution_count": 4,
      "outputs": [
        {
          "output_type": "stream",
          "name": "stdout",
          "text": [
            "hello world\n"
          ]
        }
      ]
    },
    {
      "cell_type": "markdown",
      "source": [
        "## Para que sirven las sigueintes intrucciones?"
      ],
      "metadata": {
        "id": "4VJ5AAANSkDF"
      }
    },
    {
      "cell_type": "code",
      "source": [
        "6 + 7"
      ],
      "metadata": {
        "id": "iUbCHx2JS_Oh"
      },
      "execution_count": null,
      "outputs": []
    },
    {
      "cell_type": "code",
      "source": [
        "10 - 5"
      ],
      "metadata": {
        "id": "XlLRTm3STj7G"
      },
      "execution_count": null,
      "outputs": []
    },
    {
      "cell_type": "code",
      "source": [
        "3 * 6"
      ],
      "metadata": {
        "id": "qFwZRsfHTG4b"
      },
      "execution_count": null,
      "outputs": []
    },
    {
      "cell_type": "code",
      "source": [
        "6 / 3"
      ],
      "metadata": {
        "id": "VLgdlP1STLFv"
      },
      "execution_count": null,
      "outputs": []
    },
    {
      "cell_type": "code",
      "source": [
        "6 % 5"
      ],
      "metadata": {
        "id": "Nj932as0TQD-"
      },
      "execution_count": null,
      "outputs": []
    },
    {
      "cell_type": "code",
      "source": [
        "2 ** 3"
      ],
      "metadata": {
        "id": "itTPktj4TTLe"
      },
      "execution_count": null,
      "outputs": []
    },
    {
      "cell_type": "code",
      "source": [
        "a = 5\n",
        "b = 10\n",
        "print(a+b)"
      ],
      "metadata": {
        "id": "GWKtNaODTWMy"
      },
      "execution_count": null,
      "outputs": []
    },
    {
      "cell_type": "code",
      "source": [
        "c = 7\n",
        "a + b + c"
      ],
      "metadata": {
        "id": "H4wmLpq5TpLT"
      },
      "execution_count": null,
      "outputs": []
    },
    {
      "cell_type": "code",
      "source": [
        "a * b + c"
      ],
      "metadata": {
        "id": "6wfKEMDyTu1v"
      },
      "execution_count": null,
      "outputs": []
    },
    {
      "cell_type": "code",
      "source": [
        "a * (b + c)"
      ],
      "metadata": {
        "id": "Q5DayzSuT1lh"
      },
      "execution_count": null,
      "outputs": []
    }
  ]
}