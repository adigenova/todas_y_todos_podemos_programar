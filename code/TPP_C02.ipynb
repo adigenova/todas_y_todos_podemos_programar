{
  "nbformat": 4,
  "nbformat_minor": 0,
  "metadata": {
    "colab": {
      "name": "TPP_C02.ipynb",
      "provenance": [],
      "collapsed_sections": [],
      "authorship_tag": "ABX9TyOrN3RNPQk+L9gErx/7qVaW",
      "include_colab_link": true
    },
    "kernelspec": {
      "name": "python3",
      "display_name": "Python 3"
    },
    "language_info": {
      "name": "python"
    }
  },
  "cells": [
    {
      "cell_type": "markdown",
      "metadata": {
        "id": "view-in-github",
        "colab_type": "text"
      },
      "source": [
        "<a href=\"https://colab.research.google.com/github/adigenova/tpp/blob/main/code/TPP_C02.ipynb\" target=\"_parent\"><img src=\"https://colab.research.google.com/assets/colab-badge.svg\" alt=\"Open In Colab\"/></a>"
      ]
    },
    {
      "cell_type": "markdown",
      "source": [
        "# Todas y todos podemos programar\n",
        "Este **taller** busca entregar competencias basicas de programación a estudiantes de *tercero* y *Cuarto* Medio.\n"
      ],
      "metadata": {
        "id": "4cyzIFHpRbnL"
      }
    },
    {
      "cell_type": "markdown",
      "source": [
        "## Operaciones con números"
      ],
      "metadata": {
        "id": "4VJ5AAANSkDF"
      }
    },
    {
      "cell_type": "code",
      "source": [
        "# suma 13\n",
        "6 + 7 + 4 + 5"
      ],
      "metadata": {
        "id": "iUbCHx2JS_Oh",
        "colab": {
          "base_uri": "https://localhost:8080/"
        },
        "outputId": "ad7f93b3-c204-41d0-cfdb-4ab2e5ef8e49"
      },
      "execution_count": 3,
      "outputs": [
        {
          "output_type": "execute_result",
          "data": {
            "text/plain": [
              "22"
            ]
          },
          "metadata": {},
          "execution_count": 3
        }
      ]
    },
    {
      "cell_type": "code",
      "source": [
        "# resta\n",
        "10 - 5"
      ],
      "metadata": {
        "id": "XlLRTm3STj7G",
        "colab": {
          "base_uri": "https://localhost:8080/"
        },
        "outputId": "f04a8a3c-1167-4c7e-9a56-f0dcdd037291"
      },
      "execution_count": null,
      "outputs": [
        {
          "output_type": "execute_result",
          "data": {
            "text/plain": [
              "5"
            ]
          },
          "metadata": {},
          "execution_count": 31
        }
      ]
    },
    {
      "cell_type": "code",
      "source": [
        "# multiplicacion 18\n",
        "3 * 6"
      ],
      "metadata": {
        "id": "qFwZRsfHTG4b",
        "colab": {
          "base_uri": "https://localhost:8080/"
        },
        "outputId": "488b630b-c168-4e63-ae1e-35932966d7f8"
      },
      "execution_count": null,
      "outputs": [
        {
          "output_type": "execute_result",
          "data": {
            "text/plain": [
              "18"
            ]
          },
          "metadata": {},
          "execution_count": 32
        }
      ]
    },
    {
      "cell_type": "code",
      "source": [
        "# division \n",
        "8 / 3"
      ],
      "metadata": {
        "id": "VLgdlP1STLFv",
        "colab": {
          "base_uri": "https://localhost:8080/"
        },
        "outputId": "80c0929b-864b-4a26-ea10-3d75ce2c6780"
      },
      "execution_count": null,
      "outputs": [
        {
          "output_type": "execute_result",
          "data": {
            "text/plain": [
              "2.6666666666666665"
            ]
          },
          "metadata": {},
          "execution_count": 35
        }
      ]
    },
    {
      "cell_type": "code",
      "source": [
        "# division entera\n",
        "12//3"
      ],
      "metadata": {
        "colab": {
          "base_uri": "https://localhost:8080/"
        },
        "id": "Kb6NKPkC_2nN",
        "outputId": "f3c223a4-246b-4418-f8d6-db583e9f6edc"
      },
      "execution_count": null,
      "outputs": [
        {
          "output_type": "execute_result",
          "data": {
            "text/plain": [
              "4"
            ]
          },
          "metadata": {},
          "execution_count": 38
        }
      ]
    },
    {
      "cell_type": "code",
      "source": [
        "# modulo \n",
        "10 % 5"
      ],
      "metadata": {
        "id": "Nj932as0TQD-",
        "colab": {
          "base_uri": "https://localhost:8080/"
        },
        "outputId": "5cb40f7f-25d7-4a0b-911b-7e40d0e1673e"
      },
      "execution_count": null,
      "outputs": [
        {
          "output_type": "execute_result",
          "data": {
            "text/plain": [
              "0"
            ]
          },
          "metadata": {},
          "execution_count": 43
        }
      ]
    },
    {
      "cell_type": "code",
      "source": [
        "# exponencial 2 * 2 * 2\n",
        "5 ** 3"
      ],
      "metadata": {
        "id": "itTPktj4TTLe",
        "colab": {
          "base_uri": "https://localhost:8080/"
        },
        "outputId": "b7c57cf0-8a73-4ec7-ac76-3302a1a59d77"
      },
      "execution_count": 4,
      "outputs": [
        {
          "output_type": "execute_result",
          "data": {
            "text/plain": [
              "125"
            ]
          },
          "metadata": {},
          "execution_count": 4
        }
      ]
    },
    {
      "cell_type": "code",
      "source": [
        "# convirtiendo numeros en base 10 a binarios\n",
        "print(bin(25))\n",
        "# Convirtiendo numeros binarios a base 10\n",
        "int(bin(25),base=2)\n",
        "i=10\n",
        "print(i,\"->\",bin(i),\"->\",int(bin(i),base=2))"
      ],
      "metadata": {
        "colab": {
          "base_uri": "https://localhost:8080/"
        },
        "id": "GIP0tmCn-8FS",
        "outputId": "2f359bd5-dff7-4193-d812-2df061239b8b"
      },
      "execution_count": 2,
      "outputs": [
        {
          "output_type": "stream",
          "name": "stdout",
          "text": [
            "0b11001\n",
            "10 -> 0b1010 -> 10\n"
          ]
        }
      ]
    },
    {
      "cell_type": "code",
      "source": [
        "a = bin(5)\n",
        "print(a)\n",
        "print(int(a,base=2))"
      ],
      "metadata": {
        "colab": {
          "base_uri": "https://localhost:8080/"
        },
        "id": "bJAmHKyyDKkW",
        "outputId": "562ec09d-248f-4eaa-d9c6-88e40f341649"
      },
      "execution_count": 54,
      "outputs": [
        {
          "output_type": "stream",
          "name": "stdout",
          "text": [
            "0b101\n",
            "5\n"
          ]
        }
      ]
    },
    {
      "cell_type": "code",
      "source": [
        "#texto a binario\n",
        "print(\"A\")\n",
        "print(ord(\"A\"))\n",
        "print(bin(ord(\"A\")))\n",
        "print(chr(ord(\"A\")))"
      ],
      "metadata": {
        "colab": {
          "base_uri": "https://localhost:8080/"
        },
        "id": "aJXr600pI_wM",
        "outputId": "53b03b58-5880-4d10-8c50-faf0ed5e9e64"
      },
      "execution_count": 60,
      "outputs": [
        {
          "output_type": "stream",
          "name": "stdout",
          "text": [
            "A\n",
            "65\n",
            "0b1000001\n",
            "A\n"
          ]
        }
      ]
    },
    {
      "cell_type": "code",
      "source": [
        "# variables\n",
        "a = 5\n",
        "print(a)\n",
        "a = 7\n",
        "print(a)\n",
        "b=a\n",
        "print(b)\n",
        "c=\"texto\"\n",
        "b=c\n",
        "print(b)"
      ],
      "metadata": {
        "colab": {
          "base_uri": "https://localhost:8080/"
        },
        "id": "ck8wXDYtAVdF",
        "outputId": "6f1195ce-ae2c-4dcf-be38-71d102e6ca3d"
      },
      "execution_count": 61,
      "outputs": [
        {
          "output_type": "stream",
          "name": "stdout",
          "text": [
            "5\n",
            "7\n",
            "7\n",
            "texto\n"
          ]
        }
      ]
    },
    {
      "cell_type": "markdown",
      "source": [
        "## Comparaciones numericas"
      ],
      "metadata": {
        "id": "zjc1ZzRmRS2U"
      }
    },
    {
      "cell_type": "code",
      "source": [
        "5 > 7"
      ],
      "metadata": {
        "colab": {
          "base_uri": "https://localhost:8080/"
        },
        "id": "dwKcDJgsRXrj",
        "outputId": "e01b77f9-ae74-46b5-f4a3-e73769b64236"
      },
      "execution_count": 62,
      "outputs": [
        {
          "output_type": "execute_result",
          "data": {
            "text/plain": [
              "False"
            ]
          },
          "metadata": {},
          "execution_count": 62
        }
      ]
    },
    {
      "cell_type": "code",
      "source": [
        "5 < 7"
      ],
      "metadata": {
        "colab": {
          "base_uri": "https://localhost:8080/"
        },
        "id": "KqG-D1iKRajX",
        "outputId": "3160b31f-1ae4-461b-8bce-69abfd491c62"
      },
      "execution_count": 63,
      "outputs": [
        {
          "output_type": "execute_result",
          "data": {
            "text/plain": [
              "True"
            ]
          },
          "metadata": {},
          "execution_count": 63
        }
      ]
    },
    {
      "cell_type": "code",
      "source": [
        "a = 100\n",
        "b = 50\n",
        "a < b"
      ],
      "metadata": {
        "colab": {
          "base_uri": "https://localhost:8080/"
        },
        "id": "RtaoYo6kRdxH",
        "outputId": "9991e2cb-24aa-46ad-de71-c0c08739971c"
      },
      "execution_count": 64,
      "outputs": [
        {
          "output_type": "execute_result",
          "data": {
            "text/plain": [
              "False"
            ]
          },
          "metadata": {},
          "execution_count": 64
        }
      ]
    },
    {
      "cell_type": "code",
      "source": [
        "5 == 5"
      ],
      "metadata": {
        "colab": {
          "base_uri": "https://localhost:8080/"
        },
        "id": "kpYFgm3sRu_l",
        "outputId": "81f917e5-2b25-4443-f051-acf02be3425b"
      },
      "execution_count": 65,
      "outputs": [
        {
          "output_type": "execute_result",
          "data": {
            "text/plain": [
              "True"
            ]
          },
          "metadata": {},
          "execution_count": 65
        }
      ]
    },
    {
      "cell_type": "code",
      "source": [
        "5 == 6"
      ],
      "metadata": {
        "colab": {
          "base_uri": "https://localhost:8080/"
        },
        "id": "VtsSgE-LR2Nc",
        "outputId": "7a6d2691-26d9-4690-f224-a23e7ebc74f4"
      },
      "execution_count": 66,
      "outputs": [
        {
          "output_type": "execute_result",
          "data": {
            "text/plain": [
              "False"
            ]
          },
          "metadata": {},
          "execution_count": 66
        }
      ]
    },
    {
      "cell_type": "code",
      "source": [
        "5 is 5"
      ],
      "metadata": {
        "colab": {
          "base_uri": "https://localhost:8080/"
        },
        "id": "heHjEtroR5RT",
        "outputId": "a6e9456c-afe9-4fb2-d8cc-db3c39501473"
      },
      "execution_count": 67,
      "outputs": [
        {
          "output_type": "execute_result",
          "data": {
            "text/plain": [
              "True"
            ]
          },
          "metadata": {},
          "execution_count": 67
        }
      ]
    },
    {
      "cell_type": "code",
      "source": [
        "5 is 6"
      ],
      "metadata": {
        "colab": {
          "base_uri": "https://localhost:8080/"
        },
        "id": "0XczFTcaSCL8",
        "outputId": "4e5cf835-759a-4c55-f356-02a2be83528a"
      },
      "execution_count": 68,
      "outputs": [
        {
          "output_type": "execute_result",
          "data": {
            "text/plain": [
              "False"
            ]
          },
          "metadata": {},
          "execution_count": 68
        }
      ]
    },
    {
      "cell_type": "code",
      "source": [
        "5 > 3 and 10 < 20"
      ],
      "metadata": {
        "colab": {
          "base_uri": "https://localhost:8080/"
        },
        "id": "2yh-lTttSaVP",
        "outputId": "01fd4282-0fa5-40b7-f986-cb23b8b81d8e"
      },
      "execution_count": 69,
      "outputs": [
        {
          "output_type": "execute_result",
          "data": {
            "text/plain": [
              "True"
            ]
          },
          "metadata": {},
          "execution_count": 69
        }
      ]
    },
    {
      "cell_type": "code",
      "source": [
        "a = 5\n",
        "a is 5 or a == 4"
      ],
      "metadata": {
        "colab": {
          "base_uri": "https://localhost:8080/"
        },
        "id": "rB6wmPEFSehS",
        "outputId": "0e6ab480-ecfb-4e75-99d2-d3c283421f6c"
      },
      "execution_count": 70,
      "outputs": [
        {
          "output_type": "execute_result",
          "data": {
            "text/plain": [
              "True"
            ]
          },
          "metadata": {},
          "execution_count": 70
        }
      ]
    },
    {
      "cell_type": "code",
      "source": [
        "a >= 5"
      ],
      "metadata": {
        "colab": {
          "base_uri": "https://localhost:8080/"
        },
        "id": "kwceoPRGS8sL",
        "outputId": "a7e3ab89-0b17-46af-84f4-feb7d4882825"
      },
      "execution_count": 71,
      "outputs": [
        {
          "output_type": "execute_result",
          "data": {
            "text/plain": [
              "True"
            ]
          },
          "metadata": {},
          "execution_count": 71
        }
      ]
    },
    {
      "cell_type": "code",
      "source": [
        "a <= 10"
      ],
      "metadata": {
        "colab": {
          "base_uri": "https://localhost:8080/"
        },
        "id": "q8VJ1W97TAd9",
        "outputId": "fda0c4c6-6752-4b33-e2a2-6e055f1a3d7c"
      },
      "execution_count": 72,
      "outputs": [
        {
          "output_type": "execute_result",
          "data": {
            "text/plain": [
              "True"
            ]
          },
          "metadata": {},
          "execution_count": 72
        }
      ]
    },
    {
      "cell_type": "code",
      "source": [
        "a = \"Alex\"\n",
        "b = \"Carol\"\n",
        "a != b"
      ],
      "metadata": {
        "colab": {
          "base_uri": "https://localhost:8080/"
        },
        "id": "jQk1o-jBTlh5",
        "outputId": "21556d3e-13d9-43bc-ade3-2cb3767a54a9"
      },
      "execution_count": 73,
      "outputs": [
        {
          "output_type": "execute_result",
          "data": {
            "text/plain": [
              "True"
            ]
          },
          "metadata": {},
          "execution_count": 73
        }
      ]
    },
    {
      "cell_type": "code",
      "source": [
        "a is not b"
      ],
      "metadata": {
        "colab": {
          "base_uri": "https://localhost:8080/"
        },
        "id": "DmvDA6vLTt2f",
        "outputId": "7a0e8bc8-a863-409e-d6b0-0f642e06ae85"
      },
      "execution_count": 74,
      "outputs": [
        {
          "output_type": "execute_result",
          "data": {
            "text/plain": [
              "True"
            ]
          },
          "metadata": {},
          "execution_count": 74
        }
      ]
    },
    {
      "cell_type": "markdown",
      "source": [
        "## Manejo y comparacion de palabras"
      ],
      "metadata": {
        "id": "1RTJ4F9NWTAt"
      }
    },
    {
      "cell_type": "code",
      "source": [
        "S = 'palabra'\n",
        "len(S)"
      ],
      "metadata": {
        "colab": {
          "base_uri": "https://localhost:8080/"
        },
        "id": "HqGhoDnXWZ43",
        "outputId": "842acc88-b586-4a3c-eac9-a0afa3f1c0f1"
      },
      "execution_count": 1,
      "outputs": [
        {
          "output_type": "execute_result",
          "data": {
            "text/plain": [
              "7"
            ]
          },
          "metadata": {},
          "execution_count": 1
        }
      ]
    },
    {
      "cell_type": "code",
      "source": [
        "print(S[0]) #primer caracter de la secuencia\n",
        "print(S[3]) # cuarto caracter"
      ],
      "metadata": {
        "colab": {
          "base_uri": "https://localhost:8080/"
        },
        "id": "pIuPLAWPP2Y_",
        "outputId": "0450b121-ab04-4cf3-ede4-28a3b7fe185c"
      },
      "execution_count": 7,
      "outputs": [
        {
          "output_type": "stream",
          "name": "stdout",
          "text": [
            "p\n",
            "a\n"
          ]
        }
      ]
    },
    {
      "cell_type": "code",
      "source": [
        "# indices de secuencias comienzan en 0 .. n-1\n",
        "print(S[-1]) # ultimo caracter\n",
        "print(S[-2]) # ante-penultimo caracter"
      ],
      "metadata": {
        "colab": {
          "base_uri": "https://localhost:8080/"
        },
        "id": "fCl5hOycQX2u",
        "outputId": "24f0518c-e4e0-4474-d012-15cc4583174a"
      },
      "execution_count": 8,
      "outputs": [
        {
          "output_type": "stream",
          "name": "stdout",
          "text": [
            "a\n",
            "r\n"
          ]
        }
      ]
    },
    {
      "cell_type": "code",
      "source": [
        "print(S[2:5])\n",
        "print(S[1:])\n",
        "print(S[:4])\n",
        "print(S[:-1])\n",
        "print(S[:])"
      ],
      "metadata": {
        "colab": {
          "base_uri": "https://localhost:8080/"
        },
        "id": "NKvB1CXtRRxJ",
        "outputId": "30016fe6-a49b-49cf-d562-63de7f0db58b"
      },
      "execution_count": 13,
      "outputs": [
        {
          "output_type": "stream",
          "name": "stdout",
          "text": [
            "lab\n",
            "alabra\n",
            "pala\n",
            "palabr\n",
            "palabra\n"
          ]
        }
      ]
    },
    {
      "cell_type": "code",
      "source": [
        "S + ' dos'"
      ],
      "metadata": {
        "colab": {
          "base_uri": "https://localhost:8080/",
          "height": 35
        },
        "id": "l_fqMFbeS8AE",
        "outputId": "3c39eed6-7daa-4a6e-f285-49b67c9cef18"
      },
      "execution_count": 15,
      "outputs": [
        {
          "output_type": "execute_result",
          "data": {
            "text/plain": [
              "'palabra dos'"
            ],
            "application/vnd.google.colaboratory.intrinsic+json": {
              "type": "string"
            }
          },
          "metadata": {},
          "execution_count": 15
        }
      ]
    },
    {
      "cell_type": "code",
      "source": [
        "S * 4"
      ],
      "metadata": {
        "colab": {
          "base_uri": "https://localhost:8080/",
          "height": 35
        },
        "id": "yDRW9r8ZTHh7",
        "outputId": "21476269-8ff1-4f5b-fb99-815c87fd422f"
      },
      "execution_count": 16,
      "outputs": [
        {
          "output_type": "execute_result",
          "data": {
            "text/plain": [
              "'palabrapalabrapalabrapalabra'"
            ],
            "application/vnd.google.colaboratory.intrinsic+json": {
              "type": "string"
            }
          },
          "metadata": {},
          "execution_count": 16
        }
      ]
    },
    {
      "cell_type": "code",
      "source": [
        "S[0] = \"P\""
      ],
      "metadata": {
        "id": "_sAt1rfjTzB_"
      },
      "execution_count": null,
      "outputs": []
    },
    {
      "cell_type": "code",
      "source": [
        "S = 'P' + S[1:]\n",
        "print(S)"
      ],
      "metadata": {
        "colab": {
          "base_uri": "https://localhost:8080/"
        },
        "id": "5Hmyj1HnT8dP",
        "outputId": "bf43f24d-6e33-4e58-e67b-74f53cbf34f8"
      },
      "execution_count": 19,
      "outputs": [
        {
          "output_type": "stream",
          "name": "stdout",
          "text": [
            "Palabra\n"
          ]
        }
      ]
    },
    {
      "cell_type": "code",
      "source": [
        "for i in dir(S):\n",
        "  if(i.startswith('__')):\n",
        "    continue\n",
        "  else:\n",
        "     print(i)"
      ],
      "metadata": {
        "colab": {
          "base_uri": "https://localhost:8080/"
        },
        "id": "5yogdDcUUgfj",
        "outputId": "900ff063-acba-40c6-aa2f-a263e3efd975"
      },
      "execution_count": 24,
      "outputs": [
        {
          "output_type": "stream",
          "name": "stdout",
          "text": [
            "capitalize\n",
            "casefold\n",
            "center\n",
            "count\n",
            "encode\n",
            "endswith\n",
            "expandtabs\n",
            "find\n",
            "format\n",
            "format_map\n",
            "index\n",
            "isalnum\n",
            "isalpha\n",
            "isascii\n",
            "isdecimal\n",
            "isdigit\n",
            "isidentifier\n",
            "islower\n",
            "isnumeric\n",
            "isprintable\n",
            "isspace\n",
            "istitle\n",
            "isupper\n",
            "join\n",
            "ljust\n",
            "lower\n",
            "lstrip\n",
            "maketrans\n",
            "partition\n",
            "replace\n",
            "rfind\n",
            "rindex\n",
            "rjust\n",
            "rpartition\n",
            "rsplit\n",
            "rstrip\n",
            "split\n",
            "splitlines\n",
            "startswith\n",
            "strip\n",
            "swapcase\n",
            "title\n",
            "translate\n",
            "upper\n",
            "zfill\n"
          ]
        }
      ]
    },
    {
      "cell_type": "code",
      "source": [
        "print(S.capitalize())\n",
        "print(S.upper())\n",
        "print(S.find(\"bra\"))\n",
        "print(S.replace(\"bra\",\"BRA\"))\n",
        "l=\"aaa,bbb,ccc,ddd\\n\"\n",
        "print(l.split(\",\"))\n",
        "print(l.rstrip())\n",
        "print(l.rstrip().split(\",\"))"
      ],
      "metadata": {
        "colab": {
          "base_uri": "https://localhost:8080/"
        },
        "id": "XdbRLyd2WHtt",
        "outputId": "439cc568-ffbd-4b59-ed78-2cc491d54ded"
      },
      "execution_count": 34,
      "outputs": [
        {
          "output_type": "stream",
          "name": "stdout",
          "text": [
            "Palabra\n",
            "PALABRA\n",
            "4\n",
            "PalaBRA\n",
            "['aaa', 'bbb', 'ccc', 'ddd\\n']\n",
            "aaa,bbb,ccc,ddd\n",
            "['aaa', 'bbb', 'ccc', 'ddd']\n"
          ]
        }
      ]
    },
    {
      "cell_type": "markdown",
      "source": [
        "## Librerias numericas de python"
      ],
      "metadata": {
        "id": "xBxJKXDuVfGZ"
      }
    },
    {
      "cell_type": "code",
      "source": [
        "# libreria math de python\n",
        "import math\n",
        "math.pi\n",
        "help(math)"
      ],
      "metadata": {
        "id": "01A46W4szXIn"
      },
      "execution_count": null,
      "outputs": []
    },
    {
      "cell_type": "code",
      "source": [
        "math.factorial(5)"
      ],
      "metadata": {
        "colab": {
          "base_uri": "https://localhost:8080/"
        },
        "id": "YY4aIWfKzv3L",
        "outputId": "671a0cd9-9293-4cbe-bb3b-1d1bb6a63868"
      },
      "execution_count": 11,
      "outputs": [
        {
          "output_type": "execute_result",
          "data": {
            "text/plain": [
              "120"
            ]
          },
          "metadata": {},
          "execution_count": 11
        }
      ]
    },
    {
      "cell_type": "code",
      "source": [
        "round(3.5)"
      ],
      "metadata": {
        "colab": {
          "base_uri": "https://localhost:8080/"
        },
        "id": "uxBV3Kul0FQJ",
        "outputId": "233cd9b9-0920-47b3-deab-2b5210bd283d"
      },
      "execution_count": 19,
      "outputs": [
        {
          "output_type": "execute_result",
          "data": {
            "text/plain": [
              "4"
            ]
          },
          "metadata": {},
          "execution_count": 19
        }
      ]
    },
    {
      "cell_type": "code",
      "source": [
        "# numeros random\n",
        "import random\n",
        "random.random()"
      ],
      "metadata": {
        "colab": {
          "base_uri": "https://localhost:8080/"
        },
        "id": "tPYU6avp0yzb",
        "outputId": "8effe278-18bc-4c4a-8909-6c055427d68b"
      },
      "execution_count": 18,
      "outputs": [
        {
          "output_type": "execute_result",
          "data": {
            "text/plain": [
              "0.17323689991990532"
            ]
          },
          "metadata": {},
          "execution_count": 18
        }
      ]
    },
    {
      "cell_type": "code",
      "source": [
        "random.choice([1,4,6,7,8])"
      ],
      "metadata": {
        "colab": {
          "base_uri": "https://localhost:8080/"
        },
        "id": "j7oxKINi0-gp",
        "outputId": "4c8e6c3b-c75b-4179-dc0e-dbea5ab9015f"
      },
      "execution_count": 28,
      "outputs": [
        {
          "output_type": "execute_result",
          "data": {
            "text/plain": [
              "4"
            ]
          },
          "metadata": {},
          "execution_count": 28
        }
      ]
    },
    {
      "cell_type": "code",
      "source": [
        "help(random)"
      ],
      "metadata": {
        "id": "afa-KIa44nrv"
      },
      "execution_count": null,
      "outputs": []
    },
    {
      "cell_type": "markdown",
      "source": [
        "# Ejercicios"
      ],
      "metadata": {
        "id": "jc_SvTu9V-QL"
      }
    },
    {
      "cell_type": "markdown",
      "source": [
        "\n",
        "1. Calcular la exponencial de 5^8\n",
        "2. Calcular la división entera de 33 y 15\n",
        "3. transforme el numero 10000 en su forma binaria.\n",
        "4. A que corresponde el numero binario 10001001 en base 10.\n",
        "5. Cuál es el código ASCII de \"X\"\n",
        "6. Transforme el código ASCII de \"X\" a binario.\n",
        "7. Transforme el código binario de \"X\" a carácter\n",
        "8. Calcular la raíz cuadrada de un numero utilizando la librería math de python.\n",
        "9. Calcular el coseno de 100\n",
        "10. Imprimir el valor de tres números aleatorios entre 0 y 100.\n",
        "11. Cree una variable que reciba un numero (utilice la función input) y transforme su valor a binario.\n",
        "12. defina una variable de tipo texto y determine su largo con la función len.\n",
        "13. Realice comparaciones numericas con los siguientes operadores **>=,<,==, is, is not y !=**\n",
        "13. Imprima la posición 4 de su variable.\n",
        "14. Imprima el ultimo carácter de la variable.\n",
        "15. Sustituya la segunda posición por un \"X\"\n",
        "16. utilice la find para encontrar subsecuencias de caracteres contenidos en su variable.\n",
        "17. Reemplazar el texto de pregunta 16 con ZZZZ\n",
        "18. Transformar los caracteres de su variable a Mayúsculas."
      ],
      "metadata": {
        "id": "-W7nLtRd6mGu"
      }
    }
  ]
}