{
  "nbformat": 4,
  "nbformat_minor": 0,
  "metadata": {
    "colab": {
      "name": "TPP_C05.ipynb",
      "provenance": [],
      "collapsed_sections": [],
      "authorship_tag": "ABX9TyMStlU+YwWxxlhM5L34iY/q",
      "include_colab_link": true
    },
    "kernelspec": {
      "name": "python3",
      "display_name": "Python 3"
    },
    "language_info": {
      "name": "python"
    }
  },
  "cells": [
    {
      "cell_type": "markdown",
      "metadata": {
        "id": "view-in-github",
        "colab_type": "text"
      },
      "source": [
        "<a href=\"https://colab.research.google.com/github/adigenova/tpp/blob/main/code/TPP_C05.ipynb\" target=\"_parent\"><img src=\"https://colab.research.google.com/assets/colab-badge.svg\" alt=\"Open In Colab\"/></a>"
      ]
    },
    {
      "cell_type": "markdown",
      "source": [
        "# Todas y todos podemos programar\n",
        "Este **taller** busca entregar competencias basicas de programación a estudiantes de *tercero* y *Cuarto* Medio.\n"
      ],
      "metadata": {
        "id": "4cyzIFHpRbnL"
      }
    },
    {
      "cell_type": "markdown",
      "source": [
        "# Ejercicios dia 4\n",
        "\n",
        "1. Cree un diccionario y imprima sus claves en un ciclo for.\n",
        "1. Acceda a un elemento del diccionario utilizando get, []. luego elimine tal elemento e imprima los valores utilizando ciclo for.\n",
        "3. Escribir un programa que guarde en un diccionario los precios de las frutas de la tabla, pregunte al usuario por una fruta, un número de kilos y muestre por pantalla el precio de ese número de kilos de fruta. Si la fruta no está en el diccionario debe mostrar un mensaje informando de ello.\n",
        "\n",
        "| Fruta | Precio|\n",
        "|:-|:-:|\n",
        "|Plátano | 1.35 |\n",
        "|Manzana | 0.80|\n",
        "|Pera| 0.85|\n",
        "|Naranja | 0.70|\n",
        "\n",
        "4. Escribir un programa que cree un diccionario vacío y lo vaya llenado con información sobre una persona (por ejemplo nombre, edad, sexo, teléfono, correo electrónico, etc.) que se le pida al usuario. Cada vez que se añada un nuevo dato debe imprimirse el contenido del diccionario.\n",
        "\n",
        "5. Escribir una función que calcule el total de una factura tras aplicarle el IVA. La función debe recibir la cantidad sin IVA y el porcentaje de IVA a aplicar, y devolver el total de la factura. Si se invoca la función sin pasarle el porcentaje de IVA, deberá aplicar un 21%.\n",
        "\n",
        "6. Escribir una función que reciba una muestra de números en una lista y devuelva otra lista con sus cuadrados.\n",
        "\n",
        "7. Escribir una función que convierta un número decimal en binario y otra que convierta un número binario en decimal."
      ],
      "metadata": {
        "id": "UEyhqpvzAe3S"
      }
    },
    {
      "cell_type": "code",
      "source": [
        "# 1\n",
        "D={'carlos':1234,'roberto':6655,'camila':1414,'andrea':1212}\n",
        "for i in D.keys():\n",
        "  print(i)\n",
        "\n",
        "# 2\n",
        "print(D.get(\"carlos\"))\n",
        "print(D[\"carlos\"])\n",
        "D.pop(\"carlos\")\n",
        "for i in D:\n",
        "  print(i)"
      ],
      "metadata": {
        "colab": {
          "base_uri": "https://localhost:8080/"
        },
        "id": "RIGFi0lUArD-",
        "outputId": "138d3777-de62-404c-dfb1-adda9ec80ddd"
      },
      "execution_count": 2,
      "outputs": [
        {
          "output_type": "stream",
          "name": "stdout",
          "text": [
            "carlos\n",
            "roberto\n",
            "camila\n",
            "andrea\n",
            "1234\n",
            "1234\n",
            "roberto\n",
            "camila\n",
            "andrea\n"
          ]
        }
      ]
    },
    {
      "cell_type": "code",
      "source": [
        "#3\n",
        "frutas = {'Plátano':1.35, 'Manzana':0.8, 'Pera':0.85, 'Naranja':0.7}\n",
        "fruta = input('¿Qué fruta quieres? ').title()\n",
        "kg = float(input('¿Cuántos kilos? '))\n",
        "if fruta in frutas:\n",
        "    print(kg, 'kilos de', fruta, 'valen', frutas[fruta]*kg*1000, 'pesos')\n",
        "else: \n",
        "    print(\"la fruta\", fruta, \"no está disponible.\")"
      ],
      "metadata": {
        "colab": {
          "base_uri": "https://localhost:8080/"
        },
        "id": "Tbu8W-ZVBNXV",
        "outputId": "5bdba0ca-ea47-4e2e-95f7-57e4f2cf8191"
      },
      "execution_count": 4,
      "outputs": [
        {
          "output_type": "stream",
          "name": "stdout",
          "text": [
            "¿Qué fruta quieres? Pera\n",
            "¿Cuántos kilos? 10\n",
            "10.0 kilos de Pera valen 8500.0 pesos\n"
          ]
        }
      ]
    },
    {
      "cell_type": "code",
      "source": [
        "#4\n",
        "persona = {}\n",
        "continuar = True\n",
        "while continuar:\n",
        "    clave = input('¿Qué dato quieres introducir? ')\n",
        "    valor = input(clave + ': ')\n",
        "    persona[clave] = valor\n",
        "    print(persona)\n",
        "    continuar = input('¿Quieres añadir más información (Si/No)? ') == \"Si\""
      ],
      "metadata": {
        "colab": {
          "base_uri": "https://localhost:8080/"
        },
        "id": "7kje0SRZBxQg",
        "outputId": "d979cc1e-89a6-4325-babb-4cf74932d6d2"
      },
      "execution_count": 5,
      "outputs": [
        {
          "name": "stdout",
          "output_type": "stream",
          "text": [
            "¿Qué dato quieres introducir? nombre\n",
            "nombre: Alex Di Genova\n",
            "{'nombre': 'Alex Di Genova'}\n",
            "¿Quieres añadir más información (Si/No)? Si\n",
            "¿Qué dato quieres introducir? edad\n",
            "edad: 38\n",
            "{'nombre': 'Alex Di Genova', 'edad': '38'}\n",
            "¿Quieres añadir más información (Si/No)? Si\n",
            "¿Qué dato quieres introducir? equipo\n",
            "equipo: Rangers\n",
            "{'nombre': 'Alex Di Genova', 'edad': '38', 'equipo': 'Rangers'}\n",
            "¿Quieres añadir más información (Si/No)? a\n"
          ]
        }
      ]
    },
    {
      "cell_type": "code",
      "source": [
        "# 5\n",
        "def IVA(cantidad, descuento=19):\n",
        "    \"\"\"Función que aplica el IVA a una factura.\n",
        "    Parametros\n",
        "    cantidad: Es la cantidad sin IVA\n",
        "    descuento: Es el porcentaje de IVA\n",
        "    Devuelve el total de la factura una vez aplicado el IVA. \n",
        "    \"\"\"\n",
        "    return cantidad + cantidad*descuento/100\n",
        "\n",
        "print(IVA(1000,10))\n",
        "print(IVA(1000))"
      ],
      "metadata": {
        "colab": {
          "base_uri": "https://localhost:8080/"
        },
        "id": "5M1-JlEPCf5p",
        "outputId": "8cc9aed7-0bc9-435b-8dd0-90754b285878"
      },
      "execution_count": 16,
      "outputs": [
        {
          "output_type": "stream",
          "name": "stdout",
          "text": [
            "1100.0\n",
            "1190.0\n"
          ]
        }
      ]
    },
    {
      "cell_type": "code",
      "source": [
        "# 6\n",
        "def lst_cuadrado(sample):\n",
        "    list = []\n",
        "    for i in sample:\n",
        "        list.append(i**2)\n",
        "    return list\n",
        "L=[1, 2, 3, 4, 5]\n",
        "print(L)\n",
        "print(lst_cuadrado(L))"
      ],
      "metadata": {
        "colab": {
          "base_uri": "https://localhost:8080/"
        },
        "id": "lVxX9CMHLwtg",
        "outputId": "9c960335-80d0-469a-a116-485ec254e2ce"
      },
      "execution_count": 18,
      "outputs": [
        {
          "output_type": "stream",
          "name": "stdout",
          "text": [
            "[1, 2, 3, 4, 5]\n",
            "[1, 4, 9, 16, 25]\n"
          ]
        }
      ]
    },
    {
      "cell_type": "code",
      "source": [
        "# 7\n",
        "def num_binario(num):\n",
        "  return bin(num)\n",
        "\n",
        "def binario_num(binario):\n",
        "  return int(binario,base=2)\n",
        "\n",
        "print(num_binario(50))\n",
        "print(binario_num(\"110010\"))"
      ],
      "metadata": {
        "colab": {
          "base_uri": "https://localhost:8080/"
        },
        "id": "8eluL0KiNS2q",
        "outputId": "b065086c-43bc-422a-f15c-7f96a4422b8c"
      },
      "execution_count": 21,
      "outputs": [
        {
          "output_type": "stream",
          "name": "stdout",
          "text": [
            "0b110010\n",
            "50\n"
          ]
        }
      ]
    },
    {
      "cell_type": "markdown",
      "source": [
        "# Jugando piedra papel y tijera\n",
        "\n"
      ],
      "metadata": {
        "id": "i8Ed0nkmj5SF"
      }
    },
    {
      "cell_type": "code",
      "source": [
        "import random\n",
        "\n",
        "def determinar_ganador(persona, computador):\n",
        "\n",
        "  if persona == computador:\n",
        "      print(f\"Ambos jugadores eligieron {persona}. Empate!\")\n",
        "  elif persona == \"piedra\":\n",
        "      if computador == \"tijera\":\n",
        "          print(\"La piedra rompe las tijeras! Tu ganaste!\")\n",
        "      else:\n",
        "          print(\"El papel cubre a la roca! Tu perdiste!.\")\n",
        "  elif persona == \"papel\":\n",
        "      if computador == \"piedra\":\n",
        "          print(\"Papel cubre a la piedra, Tu ganaste!\")\n",
        "      else:\n",
        "          print(\"Las tijeras cortan el papel! Tu perdiste.\")\n",
        "  elif persona == \"tijera\":\n",
        "      if computador == \"papel\":\n",
        "          print(\"Tijeras cortan el papel! Tu ganaste!\")\n",
        "      else:\n",
        "          print(\"Piedra rompe las tijeras! Tu perdiste.\")\n",
        "\n",
        "\n",
        "\n",
        "persona = input(\"Ingresa tu elección (piedra, papel, tijera): \")\n",
        "acciones_posibles = [\"piedra\", \"papel\", \"tijera\"]\n",
        "computador = random.choice(acciones_posibles)\n",
        "print(f\"\\nTu elegiste {persona}, el computador {computador}.\\n\")\n",
        "determinar_ganador(persona,computador)"
      ],
      "metadata": {
        "colab": {
          "base_uri": "https://localhost:8080/"
        },
        "id": "iPk_M6gAEPjy",
        "outputId": "ee2c65c1-05ad-4acf-82bb-732c8c3cf936"
      },
      "execution_count": 19,
      "outputs": [
        {
          "output_type": "stream",
          "name": "stdout",
          "text": [
            "Ingresa tu elección (piedra, papel, tijera): papel\n",
            "\n",
            "Tu elegiste papel, el computador piedra.\n",
            "\n",
            "Papel cubre a la piedra, Tu ganaste!\n"
          ]
        }
      ]
    },
    {
      "cell_type": "markdown",
      "source": [
        "# Como continuar aprendiendo\n",
        "\n",
        "## Tutorial python\n",
        "\n",
        "https://docs.python.org/es/3/tutorial/index.html\n",
        "\n",
        "\n",
        "\n",
        "## Python jugando\n",
        "\n",
        "https://codecombat.com/\n",
        "\n",
        "\n",
        "\n",
        "## Mejorar la escritura en el computador\n",
        "\n",
        "\n",
        "https://www.typingclub.com/\n",
        "\n",
        "\n",
        "\n",
        "\n"
      ],
      "metadata": {
        "id": "0hsQkGiPZfRc"
      }
    }
  ]
}