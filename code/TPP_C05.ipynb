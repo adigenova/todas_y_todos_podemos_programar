{
  "nbformat": 4,
  "nbformat_minor": 0,
  "metadata": {
    "colab": {
      "name": "TPP_C05.ipynb",
      "provenance": [],
      "collapsed_sections": [],
      "authorship_tag": "ABX9TyM8L+/k0KOkl95g6VyzloSN",
      "include_colab_link": true
    },
    "kernelspec": {
      "name": "python3",
      "display_name": "Python 3"
    },
    "language_info": {
      "name": "python"
    }
  },
  "cells": [
    {
      "cell_type": "markdown",
      "metadata": {
        "id": "view-in-github",
        "colab_type": "text"
      },
      "source": [
        "<a href=\"https://colab.research.google.com/github/adigenova/tpp/blob/main/code/TPP_C05.ipynb\" target=\"_parent\"><img src=\"https://colab.research.google.com/assets/colab-badge.svg\" alt=\"Open In Colab\"/></a>"
      ]
    },
    {
      "cell_type": "markdown",
      "source": [
        "# Todas y todos podemos programar\n",
        "Este **taller** busca entregar competencias basicas de programación a estudiantes de *tercero* y *Cuarto* Medio.\n"
      ],
      "metadata": {
        "id": "4cyzIFHpRbnL"
      }
    },
    {
      "cell_type": "markdown",
      "source": [
        "# Ejercicios dia 4\n",
        "\n",
        "1. Cree un diccionario y imprima sus claves en un ciclo for.\n",
        "1. Acceda a un elemento del diccionario utilizando get, []. luego elimine tal elemento e imprima los valores utilizando ciclo for.\n",
        "3. Escribir un programa que guarde en un diccionario los precios de las frutas de la tabla, pregunte al usuario por una fruta, un número de kilos y muestre por pantalla el precio de ese número de kilos de fruta. Si la fruta no está en el diccionario debe mostrar un mensaje informando de ello.\n",
        "\n",
        "| Fruta | Precio|\n",
        "|:-|:-:|\n",
        "|Plátano | 1.35 |\n",
        "|Manzana | 0.80|\n",
        "|Pera| 0.85|\n",
        "|Naranja | 0.70|\n",
        "\n",
        "4. Escribir un programa que cree un diccionario vacío y lo vaya llenado con información sobre una persona (por ejemplo nombre, edad, sexo, teléfono, correo electrónico, etc.) que se le pida al usuario. Cada vez que se añada un nuevo dato debe imprimirse el contenido del diccionario.\n",
        "\n",
        "5. Escribir una función que calcule el total de una factura tras aplicarle el IVA. La función debe recibir la cantidad sin IVA y el porcentaje de IVA a aplicar, y devolver el total de la factura. Si se invoca la función sin pasarle el porcentaje de IVA, deberá aplicar un 21%.\n",
        "\n",
        "6. Escribir una función que reciba una muestra de números en una lista y devuelva otra lista con sus cuadrados.\n",
        "\n",
        "7. Escribir una función que convierta un número decimal en binario y otra que convierta un número binario en decimal."
      ],
      "metadata": {
        "id": "UEyhqpvzAe3S"
      }
    },
    {
      "cell_type": "code",
      "source": [
        "# 1\n",
        "D={'carlos':1234,'roberto':6655,'camila':1414,'andrea':1212}\n",
        "for i in D.keys():\n",
        "  print(i)\n",
        "\n",
        "# 2\n",
        "print(D.get(\"carlos\"))\n",
        "print(D[\"carlos\"])\n",
        "D.pop(\"carlos\")\n",
        "for i in D:\n",
        "  print(i)"
      ],
      "metadata": {
        "colab": {
          "base_uri": "https://localhost:8080/"
        },
        "id": "RIGFi0lUArD-",
        "outputId": "138d3777-de62-404c-dfb1-adda9ec80ddd"
      },
      "execution_count": null,
      "outputs": [
        {
          "output_type": "stream",
          "name": "stdout",
          "text": [
            "carlos\n",
            "roberto\n",
            "camila\n",
            "andrea\n",
            "1234\n",
            "1234\n",
            "roberto\n",
            "camila\n",
            "andrea\n"
          ]
        }
      ]
    },
    {
      "cell_type": "code",
      "source": [
        "#3\n",
        "frutas = {'Plátano':1.35, 'Manzana':0.8, 'Pera':0.85, 'Naranja':0.7}\n",
        "fruta = input('¿Qué fruta quieres? ').title()\n",
        "if fruta in frutas:\n",
        "  kg = float(input('¿Cuántos kilos? '))\n",
        "  print(kg, 'kilos de', fruta, 'valen', frutas[fruta]*kg*1000, 'pesos')\n",
        "else: \n",
        "    print(\"la fruta\", fruta, \"no está disponible.\")"
      ],
      "metadata": {
        "colab": {
          "base_uri": "https://localhost:8080/"
        },
        "id": "Tbu8W-ZVBNXV",
        "outputId": "c4df2e3b-ccb4-450c-ef58-6ca918139229"
      },
      "execution_count": 3,
      "outputs": [
        {
          "output_type": "stream",
          "name": "stdout",
          "text": [
            "¿Qué fruta quieres? melon\n",
            "la fruta Melon no está disponible.\n"
          ]
        }
      ]
    },
    {
      "cell_type": "code",
      "source": [
        "#4\n",
        "LP=list()\n",
        "agregar = True\n",
        "while agregar:\n",
        " persona = {}\n",
        " continuar = True\n",
        " while continuar:\n",
        "    clave = input('¿Qué dato quieres introducir? ')\n",
        "    valor = input(clave + ': ')\n",
        "    persona[clave] = valor\n",
        "    print(persona)\n",
        "    continuar = input('¿Quieres añadir más información (Si/No)? ') == \"Si\"\n",
        " \n",
        " \n",
        " LP.append(persona)\n",
        " print(LP)\n",
        " agregar = input('¿Quieres agregar otra persona (Si/No)? ') == \"Si\""
      ],
      "metadata": {
        "colab": {
          "base_uri": "https://localhost:8080/"
        },
        "id": "7kje0SRZBxQg",
        "outputId": "43882890-732f-4238-f5e6-1a86fd5f0dc5"
      },
      "execution_count": 5,
      "outputs": [
        {
          "name": "stdout",
          "output_type": "stream",
          "text": [
            "¿Qué dato quieres introducir? nombre\n",
            "nombre: Roberto\n",
            "{'nombre': 'Roberto'}\n",
            "¿Quieres añadir más información (Si/No)? Si\n",
            "¿Qué dato quieres introducir? edad\n",
            "edad: 18\n",
            "{'nombre': 'Roberto', 'edad': '18'}\n",
            "¿Quieres añadir más información (Si/No)? No\n",
            "[{'nombre': 'Roberto', 'edad': '18'}]\n",
            "¿Quieres agregar otra persona (Si/No)? Si\n",
            "¿Qué dato quieres introducir? nombre\n",
            "nombre: Carla\n",
            "{'nombre': 'Carla'}\n",
            "¿Quieres añadir más información (Si/No)? Si\n",
            "¿Qué dato quieres introducir? edad\n",
            "edad: 17\n",
            "{'nombre': 'Carla', 'edad': '17'}\n",
            "¿Quieres añadir más información (Si/No)? Si\n",
            "¿Qué dato quieres introducir? correo\n",
            "correo: carla@gmail.com\n",
            "{'nombre': 'Carla', 'edad': '17', 'correo': 'carla@gmail.com'}\n",
            "¿Quieres añadir más información (Si/No)? No\n",
            "[{'nombre': 'Roberto', 'edad': '18'}, {'nombre': 'Carla', 'edad': '17', 'correo': 'carla@gmail.com'}]\n",
            "¿Quieres agregar otra persona (Si/No)? No\n"
          ]
        }
      ]
    },
    {
      "cell_type": "code",
      "source": [
        "print(LP)\n",
        "print(LP[1][\"edad\"])\n",
        "per=LP[1]\n",
        "print(per)\n",
        "per[\"nombre\"]\n",
        "\n",
        "for p in LP:\n",
        "  print(p[\"nombre\"],\" \",p[\"edad\"])"
      ],
      "metadata": {
        "colab": {
          "base_uri": "https://localhost:8080/"
        },
        "id": "FzdZp-2qoiJj",
        "outputId": "6d42e3d7-7e91-488c-8f45-9afe838c7381"
      },
      "execution_count": 9,
      "outputs": [
        {
          "output_type": "stream",
          "name": "stdout",
          "text": [
            "[{'nombre': 'Roberto', 'edad': '18'}, {'nombre': 'Carla', 'edad': '17', 'correo': 'carla@gmail.com'}]\n",
            "17\n",
            "{'nombre': 'Carla', 'edad': '17', 'correo': 'carla@gmail.com'}\n",
            "Roberto   18\n",
            "Carla   17\n"
          ]
        }
      ]
    },
    {
      "cell_type": "code",
      "source": [
        "# 5\n",
        "def IVA(cantidad, descuento=19):\n",
        "    \"\"\"Función que aplica el IVA a una factura.\n",
        "    Parametros\n",
        "    cantidad: Es la cantidad sin IVA\n",
        "    descuento: Es el porcentaje de IVA\n",
        "    Devuelve el total de la factura una vez aplicado el IVA. \n",
        "    \"\"\"\n",
        "    return cantidad + cantidad*descuento/100\n",
        "\n",
        "print(IVA(1000,10))\n",
        "print(IVA(1000))"
      ],
      "metadata": {
        "colab": {
          "base_uri": "https://localhost:8080/"
        },
        "id": "5M1-JlEPCf5p",
        "outputId": "2a191df9-6c4a-49c4-ed2e-344e16cefe7b"
      },
      "execution_count": 10,
      "outputs": [
        {
          "output_type": "stream",
          "name": "stdout",
          "text": [
            "1100.0\n",
            "1190.0\n"
          ]
        }
      ]
    },
    {
      "cell_type": "code",
      "source": [
        "# 6\n",
        "def lst_cuadrado(sample):\n",
        "    list = []\n",
        "    for i in sample:\n",
        "        list.append(i**2)\n",
        "    return list\n",
        "L=[1, 2, 3, 4, 5]\n",
        "print(L)\n",
        "print(lst_cuadrado(L))"
      ],
      "metadata": {
        "colab": {
          "base_uri": "https://localhost:8080/"
        },
        "id": "lVxX9CMHLwtg",
        "outputId": "800aee60-c59a-42d7-b075-ff84b19febd9"
      },
      "execution_count": 11,
      "outputs": [
        {
          "output_type": "stream",
          "name": "stdout",
          "text": [
            "[1, 2, 3, 4, 5]\n",
            "[1, 4, 9, 16, 25]\n"
          ]
        }
      ]
    },
    {
      "cell_type": "code",
      "source": [
        "# 7\n",
        "def num_binario(num):\n",
        "  return bin(num)\n",
        "\n",
        "def binario_num(binario):\n",
        "  return int(binario,base=2)\n",
        "\n",
        "print(num_binario(50))\n",
        "print(binario_num(\"110010\"))"
      ],
      "metadata": {
        "colab": {
          "base_uri": "https://localhost:8080/"
        },
        "id": "8eluL0KiNS2q",
        "outputId": "f40c11ef-142f-4500-fa2e-e0a6a82c2395"
      },
      "execution_count": 12,
      "outputs": [
        {
          "output_type": "stream",
          "name": "stdout",
          "text": [
            "0b110010\n",
            "50\n"
          ]
        }
      ]
    },
    {
      "cell_type": "markdown",
      "source": [
        "# Jugando piedra papel y tijera\n",
        "\n"
      ],
      "metadata": {
        "id": "i8Ed0nkmj5SF"
      }
    },
    {
      "cell_type": "code",
      "source": [
        "import random\n",
        "\n",
        "def determinar_ganador(persona, computador):\n",
        "\n",
        "  if persona == computador:\n",
        "      print(f\"Ambos jugadores eligieron {persona}. Empate!\")\n",
        "  elif persona == \"piedra\":\n",
        "      if computador == \"tijera\":\n",
        "          print(\"La piedra rompe las tijeras! Tu ganaste!\")\n",
        "      else:\n",
        "          print(\"El papel cubre a la roca! Tu perdiste!.\")\n",
        "  elif persona == \"papel\":\n",
        "      if computador == \"piedra\":\n",
        "          print(\"Papel cubre a la piedra, Tu ganaste!\")\n",
        "      else:\n",
        "          print(\"Las tijeras cortan el papel! Tu perdiste.\")\n",
        "  elif persona == \"tijera\":\n",
        "      if computador == \"papel\":\n",
        "          print(\"Tijeras cortan el papel! Tu ganaste!\")\n",
        "      else:\n",
        "          print(\"Piedra rompe las tijeras! Tu perdiste.\")\n",
        "\n",
        "\n",
        "acciones_posibles = [\"piedra\", \"papel\", \"tijera\"]\n",
        "continuar=True\n",
        "persona=\"\"\n",
        "while continuar:\n",
        " persona = input(\"Ingresa tu elección (piedra, papel, tijera): \")\n",
        " if(persona in acciones_posibles):\n",
        "   continuar=False\n",
        " else:\n",
        "   print(\"ingrese un valor de las acciones posibles!!!\") \n",
        "\n",
        "computador = random.choice(acciones_posibles)\n",
        "print(f\"\\nTu elegiste {persona}, el computador {computador}.\\n\")\n",
        "determinar_ganador(persona,computador)"
      ],
      "metadata": {
        "colab": {
          "base_uri": "https://localhost:8080/"
        },
        "id": "iPk_M6gAEPjy",
        "outputId": "2138498e-6eee-470a-bfc7-dc33dcca2b4a"
      },
      "execution_count": 21,
      "outputs": [
        {
          "output_type": "stream",
          "name": "stdout",
          "text": [
            "Ingresa tu elección (piedra, papel, tijera): pistola\n",
            "ingrese un valor de las acciones posibles!!!\n",
            "Ingresa tu elección (piedra, papel, tijera): pistola\n",
            "ingrese un valor de las acciones posibles!!!\n",
            "Ingresa tu elección (piedra, papel, tijera): fasfasf\n",
            "ingrese un valor de las acciones posibles!!!\n",
            "Ingresa tu elección (piedra, papel, tijera): tijera\n",
            "\n",
            "Tu elegiste tijera, el computador tijera.\n",
            "\n",
            "Ambos jugadores eligieron tijera. Empate!\n"
          ]
        }
      ]
    },
    {
      "cell_type": "markdown",
      "source": [
        "# Como continuar aprendiendo\n",
        "\n",
        "## Tutorial python\n",
        "\n",
        "https://docs.python.org/es/3/tutorial/index.html\n",
        "\n",
        "\n",
        "\n",
        "## Python jugando\n",
        "\n",
        "https://codecombat.com/\n",
        "\n",
        "\n",
        "\n",
        "## Mejorar la escritura en el computador\n",
        "\n",
        "\n",
        "https://www.typingclub.com/\n",
        "\n",
        "\n",
        "\n",
        "\n"
      ],
      "metadata": {
        "id": "0hsQkGiPZfRc"
      }
    }
  ]
}