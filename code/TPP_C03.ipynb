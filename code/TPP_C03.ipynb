{
  "nbformat": 4,
  "nbformat_minor": 0,
  "metadata": {
    "colab": {
      "name": "TPP_C03.ipynb",
      "provenance": [],
      "collapsed_sections": [],
      "authorship_tag": "ABX9TyNnf/IKBBtlQ6AhZyZQhVQC",
      "include_colab_link": true
    },
    "kernelspec": {
      "name": "python3",
      "display_name": "Python 3"
    },
    "language_info": {
      "name": "python"
    }
  },
  "cells": [
    {
      "cell_type": "markdown",
      "metadata": {
        "id": "view-in-github",
        "colab_type": "text"
      },
      "source": [
        "<a href=\"https://colab.research.google.com/github/adigenova/tpp/blob/main/code/TPP_C03.ipynb\" target=\"_parent\"><img src=\"https://colab.research.google.com/assets/colab-badge.svg\" alt=\"Open In Colab\"/></a>"
      ]
    },
    {
      "cell_type": "markdown",
      "source": [
        "# Todas y todos podemos programar\n",
        "Este **taller** busca entregar competencias basicas de programación a estudiantes de *tercero* y *Cuarto* Medio.\n"
      ],
      "metadata": {
        "id": "4cyzIFHpRbnL"
      }
    },
    {
      "cell_type": "markdown",
      "source": [
        "# Ejercicios Dia 2"
      ],
      "metadata": {
        "id": "jc_SvTu9V-QL"
      }
    },
    {
      "cell_type": "markdown",
      "source": [
        "\n",
        "1. Calcular la exponencial de 5^8\n",
        "2. Calcular la división entera de 33 y 15\n",
        "3. transforme el numero 10000 en su forma binaria.\n",
        "4. A que corresponde el numero binario 10001001 en base 10.\n",
        "5. Cuál es el código ASCII de \"X\"\n",
        "6. Transforme el código ASCII de \"X\" a binario.\n",
        "7. Transforme el código binario de \"X\" a carácter\n",
        "8. Calcular la raíz cuadrada de un numero utilizando la librería math de python.\n",
        "9. Calcular el coseno de 100\n",
        "10. Imprimir el valor de tres números aleatorios entre 0 y 100.\n",
        "11. Cree una variable que reciba un numero (utilice la función input) y transforme su valor a binario.\n",
        "12. defina una variable de tipo texto y determine su largo con la función len.\n",
        "13. Realice comparaciones numericas con los siguientes operadores **>=,<,==, is, is not y !=**\n",
        "13. Imprima la posición 4 de su variable.\n",
        "14. Imprima el ultimo carácter de la variable.\n",
        "15. Sustituya la segunda posición por un \"X\"\n",
        "16. utilice la find para encontrar subsecuencias de caracteres contenidos en su variable.\n",
        "17. Reemplazar el texto de pregunta 16 con ZZZZ\n",
        "18. Transformar los caracteres de su variable a Mayúsculas."
      ],
      "metadata": {
        "id": "-W7nLtRd6mGu"
      }
    },
    {
      "cell_type": "code",
      "source": [
        "# 1\n",
        "print(\"A1:\",5**8)\n",
        "# 2\n",
        "print(\"A2:\",33//15)\n",
        "# 3\n",
        "print(\"A3:\",bin(10000))\n",
        "# 4\n",
        "print(\"A4:\",int(\"10001001\", base=2))\n",
        "# 5\n",
        "print(\"A5:\",ord(\"X\"))\n",
        "# 6 \n",
        "print(\"A6:\",bin(ord(\"X\")))\n",
        "# 7\n",
        "a=bin(ord(\"X\"))\n",
        "print(\"A7:\",chr(int(a,base=2)))"
      ],
      "metadata": {
        "colab": {
          "base_uri": "https://localhost:8080/"
        },
        "id": "-3EL4e5Fb-Cy",
        "outputId": "470d2dbc-9d1c-4a66-99e4-0da6d8d122da"
      },
      "execution_count": 2,
      "outputs": [
        {
          "output_type": "stream",
          "name": "stdout",
          "text": [
            "A1: 390625\n",
            "A2: 2\n",
            "A3: 0b10011100010000\n",
            "A4: 137\n",
            "A5: 88\n",
            "A6: 0b1011000\n",
            "A7: X\n"
          ]
        }
      ]
    },
    {
      "cell_type": "code",
      "source": [
        "# 8\n",
        "import math\n",
        "print(\"A8:\",math.sqrt(9))\n",
        "# 9\n",
        "print(\"A9:\",math.cos(10))\n",
        "#10\n",
        "import random\n",
        "print(\"A10:\",random.randint(0,100),random.randint(0,100),random.randint(0,100))"
      ],
      "metadata": {
        "colab": {
          "base_uri": "https://localhost:8080/"
        },
        "id": "N5EZUyDLdBKn",
        "outputId": "15afb371-f9b2-450f-89a8-7a997f197e47"
      },
      "execution_count": 4,
      "outputs": [
        {
          "output_type": "stream",
          "name": "stdout",
          "text": [
            "A8: 3.0\n",
            "A9: -0.8390715290764524\n",
            "A10: 47 75 46\n"
          ]
        }
      ]
    },
    {
      "cell_type": "code",
      "source": [
        "#11\n",
        "num = input(\"ingrese un numero:\")\n",
        "print(num,bin(int(num)))"
      ],
      "metadata": {
        "colab": {
          "base_uri": "https://localhost:8080/"
        },
        "id": "p33cP62Rdodb",
        "outputId": "e096feae-c41c-4ce4-a0c2-aafefdbd1d69"
      },
      "execution_count": 6,
      "outputs": [
        {
          "output_type": "stream",
          "name": "stdout",
          "text": [
            "ingrese un numero:12\n",
            "12 0b1100\n"
          ]
        }
      ]
    },
    {
      "cell_type": "code",
      "source": [
        "# 12\n",
        "S=\"asdfasfasfsjkjkfjdkfdj\"\n",
        "print(\"A12:\",len(S))\n",
        "#13\n",
        "print(5 <= 6 and 10 >= 20 )\n",
        "print(5 is 6 or 6 is not 5)\n",
        "print(4!=5)\n",
        "# 14\n",
        "print(\"A14:\",S[3])\n",
        "# 15\n",
        "print(\"A15:\",S[-1])\n",
        "# 16\n",
        "S=S[0]+\"X\"+S[2:]\n",
        "print(\"A16:\",S)\n",
        "# 17\n",
        "print(\"A17:\",S.find(\"sfsj\"))\n",
        "# 18 \n",
        "print(\"A18:\",S.replace(\"sfsj\",\"ZZZZ\"))\n",
        "# 19\n",
        "print(\"A19:\",S.upper())"
      ],
      "metadata": {
        "colab": {
          "base_uri": "https://localhost:8080/"
        },
        "id": "1Ft-5OaaiQOV",
        "outputId": "8612e9f1-2fde-4e8e-bb88-f812080fb57a"
      },
      "execution_count": 10,
      "outputs": [
        {
          "output_type": "stream",
          "name": "stdout",
          "text": [
            "A12: 22\n",
            "False\n",
            "True\n",
            "True\n",
            "A14: f\n",
            "A15: j\n",
            "A16: aXdfasfasfsjkjkfjdkfdj\n",
            "A17: 8\n",
            "A18: aXdfasfaZZZZkjkfjdkfdj\n",
            "A19: AXDFASFASFSJKJKFJDKFDJ\n"
          ]
        }
      ]
    },
    {
      "cell_type": "markdown",
      "source": [
        "# Tomando decisiones"
      ],
      "metadata": {
        "id": "i8Ed0nkmj5SF"
      }
    },
    {
      "cell_type": "code",
      "source": [
        "# if\n",
        "a = 11\n",
        "if(a > 10):\n",
        " print(\"el valor es mayor a 10\")\n",
        "\n",
        "print(\"el valor es:\",a)"
      ],
      "metadata": {
        "colab": {
          "base_uri": "https://localhost:8080/"
        },
        "id": "0M_Rib4h1xGX",
        "outputId": "0f096742-5452-4a84-92ae-b65df560bba2"
      },
      "execution_count": 21,
      "outputs": [
        {
          "output_type": "stream",
          "name": "stdout",
          "text": [
            "el valor es mayor a 10\n",
            "el valor es: 11\n"
          ]
        }
      ]
    },
    {
      "cell_type": "code",
      "source": [
        "#if-else\n",
        "texto = \"Alex\"\n",
        "if(texto == \"Alex\"):\n",
        "  print(\"Hola Alex\")\n",
        "else:\n",
        "  print(\"No eres alex\")\n"
      ],
      "metadata": {
        "colab": {
          "base_uri": "https://localhost:8080/"
        },
        "id": "gUZMDOtm24_e",
        "outputId": "54d1ce07-cfc6-4840-f2d3-e616d43dd173"
      },
      "execution_count": 22,
      "outputs": [
        {
          "output_type": "stream",
          "name": "stdout",
          "text": [
            "Hola Alex\n"
          ]
        }
      ]
    },
    {
      "cell_type": "code",
      "source": [
        "#if-elif-else\n",
        "nombre= \"Alex\"\n",
        "if(nombre == \"Alex\"):\n",
        "  print(\"Hola Alex\")\n",
        "  print(\"Se que te gusta jugar al futbol\")\n",
        "elif(nombre == \"Roberto\"):\n",
        "  print(\"Hola Roberto\")\n",
        "  print(\"Me contaron que te gusta leer libros\")\n",
        "elif(nombre == \"Camila\"):\n",
        "  print(\"Hola Camila\")\n",
        "  print(\"Se que te gusta programar\")\n",
        "else:\n",
        "  print(\"Hola \",nombre)\n",
        "  print(\"No se nada de ti\")\n",
        "\n",
        "print(\"Bienvenido\")"
      ],
      "metadata": {
        "colab": {
          "base_uri": "https://localhost:8080/"
        },
        "id": "pIUubYCM4QM8",
        "outputId": "e2043fe4-6037-4fbb-f508-b435eff6648b"
      },
      "execution_count": 28,
      "outputs": [
        {
          "output_type": "stream",
          "name": "stdout",
          "text": [
            "Hola Alex\n",
            "Se que te gusta jugar al futbol\n",
            "Bienvenido\n"
          ]
        }
      ]
    },
    {
      "cell_type": "code",
      "source": [
        "edad = 20\n",
        "nombre = \"Carlos\"\n",
        "ciudad = \"Talca\"\n",
        "\n",
        "if(nombre == \"Carlos\"):\n",
        "  if(ciudad == \"Rancagua\"):\n",
        "    if(edad < 20):\n",
        "      print(\"Hola Carlos de Rancagua, tienes menos de 20 años\")\n",
        "    else:\n",
        "      print(\"Hola Carlos de Rancagua, tienes más de 20 años\")\n",
        "  else:\n",
        "    print(\"La persona no es de rancagua\")\n",
        "else:\n",
        "  print(\"El nombre de la persona no es Carlos\")    "
      ],
      "metadata": {
        "colab": {
          "base_uri": "https://localhost:8080/"
        },
        "id": "gTmoFkeX7vTe",
        "outputId": "0b3166ab-bbd4-4b0f-b596-55696c5f55bf"
      },
      "execution_count": 31,
      "outputs": [
        {
          "output_type": "stream",
          "name": "stdout",
          "text": [
            "La persona no es de rancagua\n"
          ]
        }
      ]
    },
    {
      "cell_type": "code",
      "source": [
        "edad = 20\n",
        "nombre = \"Alex\"\n",
        "ciudad = \"Rancagua\"\n",
        "\n",
        "if(nombre == \"Carlos\" and ciudad == \"Rancagua\"):\n",
        "  if(edad < 20):\n",
        "    print(\"Hola Carlos de Rancagua, tienes menos de 20 años\")\n",
        "  else:\n",
        "    print(\"Hola Carlos de Rancagua, tienes más de 20 años\")\n",
        "else:\n",
        "  if(nombre == \"Carlos\"): print(\"es Carlos pero no es de Rancagua\")\n",
        "  if(ciudad == \"Rancagua\"): print(\"No es Carlos, pero es de Rancagua\")\n",
        "  "
      ],
      "metadata": {
        "colab": {
          "base_uri": "https://localhost:8080/"
        },
        "id": "IQ-DxL6T94ar",
        "outputId": "84f536db-9e19-40e7-b81f-8cf21944ac71"
      },
      "execution_count": 36,
      "outputs": [
        {
          "output_type": "stream",
          "name": "stdout",
          "text": [
            "No es Carlos, pero es de Rancagua\n"
          ]
        }
      ]
    },
    {
      "cell_type": "code",
      "source": [
        "import time\n",
        "\n",
        "a = 10\n",
        "nombre = input(\"Ingresa un nombre:\")\n",
        "if(nombre == \"Roberto\"):\n",
        "  time.sleep(10)\n",
        "  print(\"Roberto esta esperando\")\n",
        "else:\n",
        "  time.sleep(1)  \n",
        "  print(\"Hola\", nombre)"
      ],
      "metadata": {
        "colab": {
          "base_uri": "https://localhost:8080/"
        },
        "id": "pzqdEwJt_88p",
        "outputId": "9f862fa5-93c9-446d-89d7-ca1129f1fbba"
      },
      "execution_count": 37,
      "outputs": [
        {
          "output_type": "stream",
          "name": "stdout",
          "text": [
            "Ingresa un nombre:Roberto\n",
            "Roberto esta esperando\n"
          ]
        }
      ]
    },
    {
      "cell_type": "code",
      "source": [
        "help(time.sleep)"
      ],
      "metadata": {
        "colab": {
          "base_uri": "https://localhost:8080/"
        },
        "id": "KLsGSGFpBoy5",
        "outputId": "d6b5dd06-bdee-4f6b-ed4f-b6c3616b7bd5"
      },
      "execution_count": 39,
      "outputs": [
        {
          "output_type": "stream",
          "name": "stdout",
          "text": [
            "Help on built-in function sleep in module time:\n",
            "\n",
            "sleep(...)\n",
            "    sleep(seconds)\n",
            "    \n",
            "    Delay execution for a given number of seconds.  The argument may be\n",
            "    a floating point number for subsecond precision.\n",
            "\n"
          ]
        }
      ]
    },
    {
      "cell_type": "markdown",
      "source": [
        "# Mi computador es el mejor para repetir instrucciones. "
      ],
      "metadata": {
        "id": "zBFweBWMHAi_"
      }
    },
    {
      "cell_type": "markdown",
      "source": [
        "## While"
      ],
      "metadata": {
        "id": "i9HEDN3wMSrj"
      }
    },
    {
      "cell_type": "code",
      "source": [
        "while 2 > 1:\n",
        "  print(\"Hola --- no puedo parar...\")\n",
        "  "
      ],
      "metadata": {
        "id": "Po15dB8XHJ9m"
      },
      "execution_count": null,
      "outputs": []
    },
    {
      "cell_type": "code",
      "source": [
        "i = 1\n",
        "while i < 5:\n",
        "  print(i)\n",
        "  "
      ],
      "metadata": {
        "id": "fg99y0kfK7pg"
      },
      "execution_count": null,
      "outputs": []
    },
    {
      "cell_type": "code",
      "source": [
        "i = 1\n",
        "while i < 5:\n",
        "  print(i)\n",
        "  i=i+1"
      ],
      "metadata": {
        "colab": {
          "base_uri": "https://localhost:8080/"
        },
        "id": "UKlR22GdLRFu",
        "outputId": "ddb91c76-86ab-4705-be8b-c0236626988f"
      },
      "execution_count": 49,
      "outputs": [
        {
          "output_type": "stream",
          "name": "stdout",
          "text": [
            "1\n",
            "2\n",
            "3\n",
            "4\n"
          ]
        }
      ]
    },
    {
      "cell_type": "code",
      "source": [
        "i = 1\n",
        "while i > 5:\n",
        "  print(i)\n",
        "  i=i+1"
      ],
      "metadata": {
        "id": "0p9agOxLLhny"
      },
      "execution_count": 50,
      "outputs": []
    },
    {
      "cell_type": "code",
      "source": [
        "i = 1\n",
        "while i < 5:\n",
        "  print(i)\n",
        "  i=i+1\n",
        "  i=0"
      ],
      "metadata": {
        "id": "z8w4OVgWLxjB"
      },
      "execution_count": null,
      "outputs": []
    },
    {
      "cell_type": "markdown",
      "source": [
        "## For"
      ],
      "metadata": {
        "id": "gfaemcgTMYOy"
      }
    },
    {
      "cell_type": "code",
      "source": [
        "for i in range(10):\n",
        "  print(i)"
      ],
      "metadata": {
        "colab": {
          "base_uri": "https://localhost:8080/"
        },
        "id": "Ixt-EvdZMe89",
        "outputId": "bc965bf9-409b-4683-ed1d-e330990ed22a"
      },
      "execution_count": 55,
      "outputs": [
        {
          "output_type": "stream",
          "name": "stdout",
          "text": [
            "0\n",
            "1\n",
            "2\n",
            "3\n",
            "4\n",
            "5\n",
            "6\n",
            "7\n",
            "8\n",
            "9\n"
          ]
        }
      ]
    },
    {
      "cell_type": "code",
      "source": [
        "S=\"palabra\"\n",
        "for i in S:\n",
        "  print(i)"
      ],
      "metadata": {
        "colab": {
          "base_uri": "https://localhost:8080/"
        },
        "id": "QHRXQ7boRYA3",
        "outputId": "1665ef40-e455-4d7b-a84f-a63e0a5c9b8c"
      },
      "execution_count": 56,
      "outputs": [
        {
          "output_type": "stream",
          "name": "stdout",
          "text": [
            "p\n",
            "a\n",
            "l\n",
            "a\n",
            "b\n",
            "r\n",
            "a\n"
          ]
        }
      ]
    },
    {
      "cell_type": "code",
      "source": [
        "for i in S:\n",
        "  for j in range(10):\n",
        "    print(i,j)"
      ],
      "metadata": {
        "id": "Hh_rNtpISR8_"
      },
      "execution_count": null,
      "outputs": []
    },
    {
      "cell_type": "markdown",
      "source": [
        "#  Listas"
      ],
      "metadata": {
        "id": "l5Zhu1ulwvc9"
      }
    },
    {
      "cell_type": "code",
      "source": [
        "L = []\n",
        "for i in dir(L):\n",
        " if(not i.startswith(\"__\")):\n",
        "  print(i)"
      ],
      "metadata": {
        "colab": {
          "base_uri": "https://localhost:8080/"
        },
        "id": "bVRfmaTgwzWc",
        "outputId": "a316e079-b1d2-4eff-b01b-d3d0a3ca8e43"
      },
      "execution_count": 15,
      "outputs": [
        {
          "output_type": "stream",
          "name": "stdout",
          "text": [
            "append\n",
            "clear\n",
            "copy\n",
            "count\n",
            "extend\n",
            "index\n",
            "insert\n",
            "pop\n",
            "remove\n",
            "reverse\n",
            "sort\n"
          ]
        }
      ]
    },
    {
      "cell_type": "code",
      "source": [
        "# add elements\n",
        "L = list()\n",
        "A = []\n",
        "print(type(A))\n",
        "print(type(L))\n",
        "A.append(\"Fruta\")"
      ],
      "metadata": {
        "colab": {
          "base_uri": "https://localhost:8080/"
        },
        "id": "yAiNFYsqyCxV",
        "outputId": "a0fa3a9a-18f1-4ec7-f0bd-51de6d974188"
      },
      "execution_count": 18,
      "outputs": [
        {
          "output_type": "stream",
          "name": "stdout",
          "text": [
            "<class 'list'>\n",
            "<class 'list'>\n"
          ]
        }
      ]
    },
    {
      "cell_type": "code",
      "source": [
        "frutas = ['manzanas', 'sandía','peras', 'platanos', 'frutillas']\n",
        "print(frutas)\n",
        "for i in frutas:\n",
        "  print(i)"
      ],
      "metadata": {
        "colab": {
          "base_uri": "https://localhost:8080/"
        },
        "id": "Y-MOG0MxxebF",
        "outputId": "8fce8f63-90d2-4d16-ea90-47ebdab00cfe"
      },
      "execution_count": 46,
      "outputs": [
        {
          "output_type": "stream",
          "name": "stdout",
          "text": [
            "['manzanas', 'sandía', 'peras', 'platanos', 'frutillas']\n",
            "manzanas\n",
            "sandía\n",
            "peras\n",
            "platanos\n",
            "frutillas\n"
          ]
        }
      ]
    },
    {
      "cell_type": "markdown",
      "source": [
        "# Ejercicios\n",
        "\n",
        "1. programar un ejemplo de if, if-else, if-elif-else\n",
        "1. imprimir numeros del 1 al 10 con while y for.\n",
        "2. contruir un for anidado para las combinaciones de pares de numeros del 1 al 10.\n",
        "1. Cuanto suman los numeros del 1 al 100?\n",
        "2. Imprimir los numeros pares menores a 20.\n",
        "3. imprimir todos los valores de una lista ordenados.\n"
      ],
      "metadata": {
        "id": "0hsQkGiPZfRc"
      }
    }
  ]
}